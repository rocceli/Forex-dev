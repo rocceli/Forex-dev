{
 "cells": [
  {
   "cell_type": "code",
   "execution_count": 22,
   "metadata": {},
   "outputs": [],
   "source": [
    "from datetime import datetime\n",
    "import matplotlib.pyplot as plt\n",
    "import pandas as pd\n",
    "from pandas.plotting import register_matplotlib_converters\n",
    "register_matplotlib_converters()\n",
    "import MetaTrader5 as mt5"
   ]
  },
  {
   "cell_type": "code",
   "execution_count": 12,
   "metadata": {},
   "outputs": [],
   "source": [
    "if not mt5.initialize():\n",
    "    print(\"initialize() failed\")\n",
    "    mt5.shutdown()"
   ]
  },
  {
   "cell_type": "code",
   "execution_count": 23,
   "metadata": {},
   "outputs": [
    {
     "name": "stdout",
     "output_type": "stream",
     "text": [
      "AccountInfo(login=151066326, trade_mode=0, leverage=50, limit_orders=1024, margin_so_mode=0, trade_allowed=True, trade_expert=True, margin_mode=2, currency_digits=2, fifo_close=False, balance=65.0, credit=0.0, profit=-1.69, equity=63.31, margin=21.23, margin_free=42.08, margin_level=298.21008007536506, margin_so_call=30.0, margin_so_so=0.0, margin_initial=0.0, margin_maintenance=0.0, assets=0.0, liabilities=0.0, commission_blocked=0.0, name='simulation', server='Tadenex-MT5Trial9', currency='USD', company='Tadenex Limited')\n"
     ]
    }
   ],
   "source": [
    "print(mt5.account_info())"
   ]
  },
  {
   "cell_type": "code",
   "execution_count": 24,
   "metadata": {},
   "outputs": [
    {
     "name": "stdout",
     "output_type": "stream",
     "text": [
      "(500, 4016, '9 Oct 2023')\n"
     ]
    }
   ],
   "source": [
    "print(mt5.version())"
   ]
  },
  {
   "cell_type": "code",
   "execution_count": 25,
   "metadata": {},
   "outputs": [],
   "source": [
    "euraud_ticks = mt5.copy_ticks_from(\"EURAUD\", datetime(2023,6,28,13), 1000, mt5.COPY_TICKS_ALL)"
   ]
  },
  {
   "cell_type": "code",
   "execution_count": 16,
   "metadata": {},
   "outputs": [
    {
     "name": "stdout",
     "output_type": "stream",
     "text": [
      "None\n"
     ]
    }
   ],
   "source": [
    "print(euraud_ticks)"
   ]
  },
  {
   "cell_type": "code",
   "execution_count": 20,
   "metadata": {},
   "outputs": [
    {
     "name": "stdout",
     "output_type": "stream",
     "text": [
      "MetaTrader5 package author:  MetaQuotes Ltd.\n",
      "MetaTrader5 package version:  5.0.45\n"
     ]
    }
   ],
   "source": [
    "print(\"MetaTrader5 package author: \",mt5.__author__)\n",
    "print(\"MetaTrader5 package version: \",mt5.__version__)"
   ]
  },
  {
   "cell_type": "code",
   "execution_count": 26,
   "metadata": {},
   "outputs": [
    {
     "name": "stdout",
     "output_type": "stream",
     "text": [
      "No orders on GBPUSD, error code=(-4, 'Terminal: Not found')\n"
     ]
    }
   ],
   "source": [
    "orders=mt5.orders_get(symbol=\"GBPUSD\")\n",
    "if orders is None:\n",
    "    print(\"No orders on GBPUSD, error code={}\".format(mt5.last_error()))\n",
    "else:\n",
    "    print(\"Total orders on GBPUSD:\",len(orders))\n",
    "    # display all active orders\n",
    "    for order in orders:\n",
    "        print(order)"
   ]
  },
  {
   "cell_type": "code",
   "execution_count": 27,
   "metadata": {},
   "outputs": [
    {
     "name": "stdout",
     "output_type": "stream",
     "text": [
      "AccountInfo(login=151066326, trade_mode=0, leverage=50, limit_orders=1024, margin_so_mode=0, trade_allowed=True, trade_expert=True, margin_mode=2, currency_digits=2, fifo_close=False, balance=65.0, credit=0.0, profit=-1.53, equity=63.47, margin=21.23, margin_free=42.24, margin_level=298.9637305699482, margin_so_call=30.0, margin_so_so=0.0, margin_initial=0.0, margin_maintenance=0.0, assets=0.0, liabilities=0.0, commission_blocked=0.0, name='simulation', server='Tadenex-MT5Trial9', currency='USD', company='Tadenex Limited')\n"
     ]
    }
   ],
   "source": [
    "print(mt5.account_info())"
   ]
  },
  {
   "cell_type": "code",
   "execution_count": 28,
   "metadata": {},
   "outputs": [
    {
     "name": "stdout",
     "output_type": "stream",
     "text": [
      "  login=151066326\n",
      "  trade_mode=0\n",
      "  leverage=50\n",
      "  limit_orders=1024\n",
      "  margin_so_mode=0\n",
      "  trade_allowed=True\n",
      "  trade_expert=True\n",
      "  margin_mode=2\n",
      "  currency_digits=2\n",
      "  fifo_close=False\n",
      "  balance=65.0\n",
      "  credit=0.0\n",
      "  profit=-1.43\n",
      "  equity=63.57\n",
      "  margin=21.23\n",
      "  margin_free=42.34\n",
      "  margin_level=299.4347621290626\n",
      "  margin_so_call=30.0\n",
      "  margin_so_so=0.0\n",
      "  margin_initial=0.0\n",
      "  margin_maintenance=0.0\n",
      "  assets=0.0\n",
      "  liabilities=0.0\n",
      "  commission_blocked=0.0\n",
      "  name=simulation\n",
      "  server=Tadenex-MT5Trial9\n",
      "  currency=USD\n",
      "  company=Tadenex Limited\n"
     ]
    }
   ],
   "source": [
    "account_info_dict = mt5.account_info()._asdict()\n",
    "for prop in account_info_dict:\n",
    "        print(\"  {}={}\".format(prop, account_info_dict[prop]))"
   ]
  },
  {
   "cell_type": "code",
   "execution_count": 29,
   "metadata": {},
   "outputs": [
    {
     "data": {
      "text/plain": [
       "(1, 'Success')"
      ]
     },
     "execution_count": 29,
     "metadata": {},
     "output_type": "execute_result"
    }
   ],
   "source": [
    "mt5.last_error()"
   ]
  },
  {
   "cell_type": "code",
   "execution_count": 30,
   "metadata": {},
   "outputs": [
    {
     "data": {
      "text/plain": [
       "TerminalInfo(community_account=True, community_connection=True, connected=True, dlls_allowed=False, trade_allowed=True, tradeapi_disabled=False, email_enabled=False, ftp_enabled=False, notifications_enabled=False, mqid=False, build=4016, maxbars=100000, codepage=0, ping_last=225483, community_balance=0.0, retransmission=0.3256334588378956, company='Exness Technologies Ltd', name='MetaTrader 5 EXNESS', language='English', path='C:\\\\Program Files\\\\MetaTrader 5 EXNESS', data_path='C:\\\\Users\\\\Lex\\\\AppData\\\\Roaming\\\\MetaQuotes\\\\Terminal\\\\53785E099C927DB68A545C249CDBCE06', commondata_path='C:\\\\Users\\\\Lex\\\\AppData\\\\Roaming\\\\MetaQuotes\\\\Terminal\\\\Common')"
      ]
     },
     "execution_count": 30,
     "metadata": {},
     "output_type": "execute_result"
    }
   ],
   "source": [
    "mt5.terminal_info()"
   ]
  },
  {
   "cell_type": "code",
   "execution_count": 31,
   "metadata": {},
   "outputs": [
    {
     "name": "stdout",
     "output_type": "stream",
     "text": [
      "Total symbols:  359\n"
     ]
    }
   ],
   "source": [
    "symbols = mt5.symbols_total()\n",
    "if symbols > 0:\n",
    "    print('Total symbols: ', symbols)"
   ]
  },
  {
   "cell_type": "code",
   "execution_count": 32,
   "metadata": {},
   "outputs": [
    {
     "name": "stdout",
     "output_type": "stream",
     "text": [
      "(SymbolInfo(custom=False, chart_mode=0, select=False, visible=False, session_deals=0, session_buy_orders=0, session_sell_orders=0, volume=0, volumehigh=0, volumelow=0, time=0, digits=5, spread=0, spread_float=True, ticks_bookdepth=0, trade_calc_mode=0, trade_mode=4, start_time=0, expiration_time=0, trade_stops_level=0, trade_freeze_level=0, trade_exemode=2, swap_mode=1, swap_rollover3days=3, margin_hedged_use_leg=False, expiration_mode=15, filling_mode=3, order_mode=127, order_gtc_mode=0, option_mode=0, option_right=0, bid=0.0, bidhigh=0.0, bidlow=0.0, ask=0.0, askhigh=0.0, asklow=0.0, last=0.0, lasthigh=0.0, lastlow=0.0, volume_real=0.0, volumehigh_real=0.0, volumelow_real=0.0, option_strike=0.0, point=1e-05, trade_tick_value=0.0, trade_tick_value_profit=0.0, trade_tick_value_loss=0.0, trade_tick_size=1e-05, trade_contract_size=100000.0, trade_accrued_interest=0.0, trade_face_value=0.0, trade_liquidity_rate=0.0, volume_min=0.01, volume_max=200.0, volume_step=0.01, volume_limit=0.0, swap_long=0.0, swap_short=-9.2656, margin_initial=0.0, margin_maintenance=0.0, session_volume=0.0, session_turnover=0.0, session_interest=0.0, session_buy_orders_volume=0.0, session_sell_orders_volume=0.0, session_open=0.0, session_close=0.0, session_aw=0.0, session_price_settlement=0.0, session_price_limit_min=0.0, session_price_limit_max=0.0, margin_hedged=0.0, price_change=0.0, price_volatility=0.0, price_theoretical=0.0, price_greeks_delta=0.0, price_greeks_theta=0.0, price_greeks_gamma=0.0, price_greeks_vega=0.0, price_greeks_rho=0.0, price_greeks_omega=0.0, price_sensitivity=0.0, basis='', category='Minors', currency_base='GBP', currency_profit='AUD', currency_margin='GBP', bank='', description='Great Britain Pound vs Australian Dollar', exchange='', formula='', isin='', name='GBPAUDm', page='', path='Forex_group\\\\GBPAUDm'), SymbolInfo(custom=False, chart_mode=0, select=False, visible=False, session_deals=0, session_buy_orders=0, session_sell_orders=0, volume=0, volumehigh=0, volumelow=0, time=0, digits=5, spread=0, spread_float=True, ticks_bookdepth=0, trade_calc_mode=0, trade_mode=4, start_time=0, expiration_time=0, trade_stops_level=0, trade_freeze_level=0, trade_exemode=2, swap_mode=1, swap_rollover3days=3, margin_hedged_use_leg=False, expiration_mode=15, filling_mode=3, order_mode=127, order_gtc_mode=0, option_mode=0, option_right=0, bid=0.0, bidhigh=0.0, bidlow=0.0, ask=0.0, askhigh=0.0, asklow=0.0, last=0.0, lasthigh=0.0, lastlow=0.0, volume_real=0.0, volumehigh_real=0.0, volumelow_real=0.0, option_strike=0.0, point=1e-05, trade_tick_value=0.0, trade_tick_value_profit=0.0, trade_tick_value_loss=0.0, trade_tick_size=1e-05, trade_contract_size=100000.0, trade_accrued_interest=0.0, trade_face_value=0.0, trade_liquidity_rate=0.0, volume_min=0.01, volume_max=200.0, volume_step=0.01, volume_limit=0.0, swap_long=-1.1622, swap_short=-4.7527, margin_initial=0.0, margin_maintenance=0.0, session_volume=0.0, session_turnover=0.0, session_interest=0.0, session_buy_orders_volume=0.0, session_sell_orders_volume=0.0, session_open=0.0, session_close=0.0, session_aw=0.0, session_price_settlement=0.0, session_price_limit_min=0.0, session_price_limit_max=0.0, margin_hedged=0.0, price_change=0.0, price_volatility=0.0, price_theoretical=0.0, price_greeks_delta=0.0, price_greeks_theta=0.0, price_greeks_gamma=0.0, price_greeks_vega=0.0, price_greeks_rho=0.0, price_greeks_omega=0.0, price_sensitivity=0.0, basis='', category='Minors', currency_base='GBP', currency_profit='CAD', currency_margin='GBP', bank='', description='Great Britain Pound vs Canadian Dollar', exchange='', formula='', isin='', name='GBPCADm', page='', path='Forex_group\\\\GBPCADm'), SymbolInfo(custom=False, chart_mode=0, select=False, visible=False, session_deals=0, session_buy_orders=0, session_sell_orders=0, volume=0, volumehigh=0, volumelow=0, time=0, digits=5, spread=0, spread_float=True, ticks_bookdepth=0, trade_calc_mode=0, trade_mode=4, start_time=0, expiration_time=0, trade_stops_level=0, trade_freeze_level=0, trade_exemode=2, swap_mode=1, swap_rollover3days=3, margin_hedged_use_leg=False, expiration_mode=15, filling_mode=3, order_mode=127, order_gtc_mode=0, option_mode=0, option_right=0, bid=0.0, bidhigh=0.0, bidlow=0.0, ask=0.0, askhigh=0.0, asklow=0.0, last=0.0, lasthigh=0.0, lastlow=0.0, volume_real=0.0, volumehigh_real=0.0, volumelow_real=0.0, option_strike=0.0, point=1e-05, trade_tick_value=0.0, trade_tick_value_profit=0.0, trade_tick_value_loss=0.0, trade_tick_size=1e-05, trade_contract_size=100000.0, trade_accrued_interest=0.0, trade_face_value=0.0, trade_liquidity_rate=0.0, volume_min=0.01, volume_max=200.0, volume_step=0.01, volume_limit=0.0, swap_long=0.0, swap_short=-15.7497, margin_initial=0.0, margin_maintenance=0.0, session_volume=0.0, session_turnover=0.0, session_interest=0.0, session_buy_orders_volume=0.0, session_sell_orders_volume=0.0, session_open=0.0, session_close=0.0, session_aw=0.0, session_price_settlement=0.0, session_price_limit_min=0.0, session_price_limit_max=0.0, margin_hedged=0.0, price_change=0.0, price_volatility=0.0, price_theoretical=0.0, price_greeks_delta=0.0, price_greeks_theta=0.0, price_greeks_gamma=0.0, price_greeks_vega=0.0, price_greeks_rho=0.0, price_greeks_omega=0.0, price_sensitivity=0.0, basis='', category='Minors', currency_base='GBP', currency_profit='CHF', currency_margin='GBP', bank='', description='Great Britain Pound vs Swiss Franc', exchange='', formula='', isin='', name='GBPCHFm', page='', path='Forex_group\\\\GBPCHFm'), SymbolInfo(custom=False, chart_mode=0, select=False, visible=False, session_deals=0, session_buy_orders=0, session_sell_orders=0, volume=0, volumehigh=0, volumelow=0, time=0, digits=4, spread=0, spread_float=True, ticks_bookdepth=0, trade_calc_mode=5, trade_mode=0, start_time=0, expiration_time=0, trade_stops_level=0, trade_freeze_level=0, trade_exemode=2, swap_mode=1, swap_rollover3days=3, margin_hedged_use_leg=False, expiration_mode=15, filling_mode=3, order_mode=127, order_gtc_mode=0, option_mode=0, option_right=0, bid=0.0, bidhigh=0.0, bidlow=0.0, ask=0.0, askhigh=0.0, asklow=0.0, last=0.0, lasthigh=0.0, lastlow=0.0, volume_real=0.0, volumehigh_real=0.0, volumelow_real=0.0, option_strike=0.0, point=0.0001, trade_tick_value=0.0, trade_tick_value_profit=0.0, trade_tick_value_loss=0.0, trade_tick_size=0.0001, trade_contract_size=100000.0, trade_accrued_interest=0.0, trade_face_value=0.0, trade_liquidity_rate=0.0, volume_min=0.01, volume_max=200.0, volume_step=0.01, volume_limit=0.0, swap_long=-45.8, swap_short=-11.2, margin_initial=100000.0, margin_maintenance=0.0, session_volume=0.0, session_turnover=0.0, session_interest=0.0, session_buy_orders_volume=0.0, session_sell_orders_volume=0.0, session_open=0.0, session_close=0.0, session_aw=0.0, session_price_settlement=0.0, session_price_limit_min=0.0, session_price_limit_max=0.0, margin_hedged=0.0, price_change=0.0, price_volatility=0.0, price_theoretical=0.0, price_greeks_delta=0.0, price_greeks_theta=0.0, price_greeks_gamma=0.0, price_greeks_vega=0.0, price_greeks_rho=0.0, price_greeks_omega=0.0, price_sensitivity=0.0, basis='', category='Exotic', currency_base='GBP', currency_profit='CZK', currency_margin='GBP', bank='', description='Great Britain Pound vs Czech Koruna', exchange='', formula='', isin='', name='GBPCZKm', page='', path='Forex_group\\\\GBPCZKm'), SymbolInfo(custom=False, chart_mode=0, select=False, visible=False, session_deals=0, session_buy_orders=0, session_sell_orders=0, volume=0, volumehigh=0, volumelow=0, time=0, digits=5, spread=0, spread_float=True, ticks_bookdepth=0, trade_calc_mode=5, trade_mode=4, start_time=0, expiration_time=0, trade_stops_level=0, trade_freeze_level=0, trade_exemode=2, swap_mode=1, swap_rollover3days=3, margin_hedged_use_leg=False, expiration_mode=15, filling_mode=3, order_mode=127, order_gtc_mode=0, option_mode=0, option_right=0, bid=0.0, bidhigh=0.0, bidlow=0.0, ask=0.0, askhigh=0.0, asklow=0.0, last=0.0, lasthigh=0.0, lastlow=0.0, volume_real=0.0, volumehigh_real=0.0, volumelow_real=0.0, option_strike=0.0, point=1e-05, trade_tick_value=0.0, trade_tick_value_profit=0.0, trade_tick_value_loss=0.0, trade_tick_size=1e-05, trade_contract_size=100000.0, trade_accrued_interest=0.0, trade_face_value=0.0, trade_liquidity_rate=0.0, volume_min=0.01, volume_max=200.0, volume_step=0.01, volume_limit=0.0, swap_long=0.0, swap_short=-68.3151, margin_initial=100000.0, margin_maintenance=0.0, session_volume=0.0, session_turnover=0.0, session_interest=0.0, session_buy_orders_volume=0.0, session_sell_orders_volume=0.0, session_open=0.0, session_close=0.0, session_aw=0.0, session_price_settlement=0.0, session_price_limit_min=0.0, session_price_limit_max=0.0, margin_hedged=0.0, price_change=0.0, price_volatility=0.0, price_theoretical=0.0, price_greeks_delta=0.0, price_greeks_theta=0.0, price_greeks_gamma=0.0, price_greeks_vega=0.0, price_greeks_rho=0.0, price_greeks_omega=0.0, price_sensitivity=0.0, basis='', category='Exotic', currency_base='GBP', currency_profit='DKK', currency_margin='GBP', bank='', description='Great Britain Pound vs Danish Krona', exchange='', formula='', isin='', name='GBPDKKm', page='', path='Forex_group\\\\GBPDKKm'), SymbolInfo(custom=False, chart_mode=0, select=False, visible=False, session_deals=0, session_buy_orders=0, session_sell_orders=0, volume=0, volumehigh=0, volumelow=0, time=0, digits=3, spread=0, spread_float=True, ticks_bookdepth=0, trade_calc_mode=5, trade_mode=0, start_time=0, expiration_time=0, trade_stops_level=0, trade_freeze_level=0, trade_exemode=2, swap_mode=1, swap_rollover3days=3, margin_hedged_use_leg=False, expiration_mode=15, filling_mode=3, order_mode=127, order_gtc_mode=0, option_mode=0, option_right=0, bid=0.0, bidhigh=0.0, bidlow=0.0, ask=0.0, askhigh=0.0, asklow=0.0, last=0.0, lasthigh=0.0, lastlow=0.0, volume_real=0.0, volumehigh_real=0.0, volumelow_real=0.0, option_strike=0.0, point=0.001, trade_tick_value=0.0, trade_tick_value_profit=0.0, trade_tick_value_loss=0.0, trade_tick_size=0.001, trade_contract_size=100000.0, trade_accrued_interest=0.0, trade_face_value=0.0, trade_liquidity_rate=0.0, volume_min=0.01, volume_max=200.0, volume_step=0.01, volume_limit=0.0, swap_long=-263.2, swap_short=-200.2, margin_initial=100000.0, margin_maintenance=0.0, session_volume=0.0, session_turnover=0.0, session_interest=0.0, session_buy_orders_volume=0.0, session_sell_orders_volume=0.0, session_open=0.0, session_close=0.0, session_aw=0.0, session_price_settlement=0.0, session_price_limit_min=0.0, session_price_limit_max=0.0, margin_hedged=0.0, price_change=0.0, price_volatility=0.0, price_theoretical=0.0, price_greeks_delta=0.0, price_greeks_theta=0.0, price_greeks_gamma=0.0, price_greeks_vega=0.0, price_greeks_rho=0.0, price_greeks_omega=0.0, price_sensitivity=0.0, basis='', category='Exotic', currency_base='GBP', currency_profit='HUF', currency_margin='GBP', bank='', description='Great Britain Pound vs Forint', exchange='', formula='', isin='', name='GBPHUFm', page='', path='Forex_group\\\\GBPHUFm'), SymbolInfo(custom=False, chart_mode=0, select=False, visible=False, session_deals=0, session_buy_orders=0, session_sell_orders=0, volume=0, volumehigh=0, volumelow=0, time=0, digits=5, spread=0, spread_float=True, ticks_bookdepth=0, trade_calc_mode=5, trade_mode=4, start_time=0, expiration_time=0, trade_stops_level=0, trade_freeze_level=0, trade_exemode=2, swap_mode=1, swap_rollover3days=3, margin_hedged_use_leg=False, expiration_mode=15, filling_mode=3, order_mode=127, order_gtc_mode=0, option_mode=0, option_right=0, bid=0.0, bidhigh=0.0, bidlow=0.0, ask=0.0, askhigh=0.0, asklow=0.0, last=0.0, lasthigh=0.0, lastlow=0.0, volume_real=0.0, volumehigh_real=0.0, volumelow_real=0.0, option_strike=0.0, point=1e-05, trade_tick_value=0.0, trade_tick_value_profit=0.0, trade_tick_value_loss=0.0, trade_tick_size=1e-05, trade_contract_size=100000.0, trade_accrued_interest=0.0, trade_face_value=0.0, trade_liquidity_rate=0.0, volume_min=0.01, volume_max=200.0, volume_step=0.01, volume_limit=0.0, swap_long=-4.1619, swap_short=-32.2195, margin_initial=100000.0, margin_maintenance=0.0, session_volume=0.0, session_turnover=0.0, session_interest=0.0, session_buy_orders_volume=0.0, session_sell_orders_volume=0.0, session_open=0.0, session_close=0.0, session_aw=0.0, session_price_settlement=0.0, session_price_limit_min=0.0, session_price_limit_max=0.0, margin_hedged=0.0, price_change=0.0, price_volatility=0.0, price_theoretical=0.0, price_greeks_delta=0.0, price_greeks_theta=0.0, price_greeks_gamma=0.0, price_greeks_vega=0.0, price_greeks_rho=0.0, price_greeks_omega=0.0, price_sensitivity=0.0, basis='', category='Exotic', currency_base='GBP', currency_profit='ILS', currency_margin='GBP', bank='', description='Great Britain Pound vs New Israeli Shekel', exchange='', formula='', isin='', name='GBPILSm', page='', path='Forex_group\\\\GBPILSm'), SymbolInfo(custom=False, chart_mode=0, select=False, visible=False, session_deals=0, session_buy_orders=0, session_sell_orders=0, volume=0, volumehigh=0, volumelow=0, time=0, digits=3, spread=0, spread_float=True, ticks_bookdepth=0, trade_calc_mode=0, trade_mode=4, start_time=0, expiration_time=0, trade_stops_level=0, trade_freeze_level=0, trade_exemode=2, swap_mode=1, swap_rollover3days=3, margin_hedged_use_leg=False, expiration_mode=15, filling_mode=3, order_mode=127, order_gtc_mode=0, option_mode=0, option_right=0, bid=0.0, bidhigh=0.0, bidlow=0.0, ask=0.0, askhigh=0.0, asklow=0.0, last=0.0, lasthigh=0.0, lastlow=0.0, volume_real=0.0, volumehigh_real=0.0, volumelow_real=0.0, option_strike=0.0, point=0.001, trade_tick_value=0.6712400488662755, trade_tick_value_profit=0.6712400488662755, trade_tick_value_loss=0.6712896144783743, trade_tick_size=0.001, trade_contract_size=100000.0, trade_accrued_interest=0.0, trade_face_value=0.0, trade_liquidity_rate=0.0, volume_min=0.01, volume_max=200.0, volume_step=0.01, volume_limit=0.0, swap_long=0.0, swap_short=-33.8074, margin_initial=0.0, margin_maintenance=0.0, session_volume=0.0, session_turnover=0.0, session_interest=0.0, session_buy_orders_volume=0.0, session_sell_orders_volume=0.0, session_open=0.0, session_close=0.0, session_aw=0.0, session_price_settlement=0.0, session_price_limit_min=0.0, session_price_limit_max=0.0, margin_hedged=0.0, price_change=0.0, price_volatility=0.0, price_theoretical=0.0, price_greeks_delta=0.0, price_greeks_theta=0.0, price_greeks_gamma=0.0, price_greeks_vega=0.0, price_greeks_rho=0.0, price_greeks_omega=0.0, price_sensitivity=0.0, basis='', category='Minors', currency_base='GBP', currency_profit='JPY', currency_margin='GBP', bank='', description='Great Britain Pound vs Japanese Yen', exchange='', formula='', isin='', name='GBPJPYm', page='', path='Forex_group\\\\GBPJPYm'), SymbolInfo(custom=False, chart_mode=0, select=False, visible=False, session_deals=0, session_buy_orders=0, session_sell_orders=0, volume=0, volumehigh=0, volumelow=0, time=0, digits=5, spread=0, spread_float=True, ticks_bookdepth=0, trade_calc_mode=5, trade_mode=4, start_time=0, expiration_time=0, trade_stops_level=0, trade_freeze_level=0, trade_exemode=2, swap_mode=1, swap_rollover3days=3, margin_hedged_use_leg=False, expiration_mode=15, filling_mode=3, order_mode=127, order_gtc_mode=0, option_mode=0, option_right=0, bid=0.0, bidhigh=0.0, bidlow=0.0, ask=0.0, askhigh=0.0, asklow=0.0, last=0.0, lasthigh=0.0, lastlow=0.0, volume_real=0.0, volumehigh_real=0.0, volumelow_real=0.0, option_strike=0.0, point=1e-05, trade_tick_value=0.0, trade_tick_value_profit=0.0, trade_tick_value_loss=0.0, trade_tick_size=1e-05, trade_contract_size=100000.0, trade_accrued_interest=0.0, trade_face_value=0.0, trade_liquidity_rate=0.0, volume_min=0.01, volume_max=200.0, volume_step=0.01, volume_limit=0.0, swap_long=-651.7088, swap_short=0.0, margin_initial=100000.0, margin_maintenance=0.0, session_volume=0.0, session_turnover=0.0, session_interest=0.0, session_buy_orders_volume=0.0, session_sell_orders_volume=0.0, session_open=0.0, session_close=0.0, session_aw=0.0, session_price_settlement=0.0, session_price_limit_min=0.0, session_price_limit_max=0.0, margin_hedged=0.0, price_change=0.0, price_volatility=0.0, price_theoretical=0.0, price_greeks_delta=0.0, price_greeks_theta=0.0, price_greeks_gamma=0.0, price_greeks_vega=0.0, price_greeks_rho=0.0, price_greeks_omega=0.0, price_sensitivity=0.0, basis='', category='Exotic', currency_base='GBP', currency_profit='MXN', currency_margin='GBP', bank='', description='Great Britain Pound vs Mexican Peso', exchange='', formula='', isin='', name='GBPMXNm', page='', path='Forex_group\\\\GBPMXNm'), SymbolInfo(custom=False, chart_mode=0, select=False, visible=False, session_deals=0, session_buy_orders=0, session_sell_orders=0, volume=0, volumehigh=0, volumelow=0, time=0, digits=5, spread=0, spread_float=True, ticks_bookdepth=0, trade_calc_mode=5, trade_mode=4, start_time=0, expiration_time=0, trade_stops_level=0, trade_freeze_level=0, trade_exemode=2, swap_mode=1, swap_rollover3days=3, margin_hedged_use_leg=False, expiration_mode=15, filling_mode=3, order_mode=127, order_gtc_mode=0, option_mode=0, option_right=0, bid=0.0, bidhigh=0.0, bidlow=0.0, ask=0.0, askhigh=0.0, asklow=0.0, last=0.0, lasthigh=0.0, lastlow=0.0, volume_real=0.0, volumehigh_real=0.0, volumelow_real=0.0, option_strike=0.0, point=1e-05, trade_tick_value=0.0, trade_tick_value_profit=0.0, trade_tick_value_loss=0.0, trade_tick_size=1e-05, trade_contract_size=100000.0, trade_accrued_interest=0.0, trade_face_value=0.0, trade_liquidity_rate=0.0, volume_min=0.01, volume_max=200.0, volume_step=0.01, volume_limit=0.0, swap_long=0.0, swap_short=-71.8424, margin_initial=100000.0, margin_maintenance=0.0, session_volume=0.0, session_turnover=0.0, session_interest=0.0, session_buy_orders_volume=0.0, session_sell_orders_volume=0.0, session_open=0.0, session_close=0.0, session_aw=0.0, session_price_settlement=0.0, session_price_limit_min=0.0, session_price_limit_max=0.0, margin_hedged=0.0, price_change=0.0, price_volatility=0.0, price_theoretical=0.0, price_greeks_delta=0.0, price_greeks_theta=0.0, price_greeks_gamma=0.0, price_greeks_vega=0.0, price_greeks_rho=0.0, price_greeks_omega=0.0, price_sensitivity=0.0, basis='', category='Exotic', currency_base='GBP', currency_profit='NOK', currency_margin='GBP', bank='', description='Great Britain Pound vs Norwegian Krona', exchange='', formula='', isin='', name='GBPNOKm', page='', path='Forex_group\\\\GBPNOKm'), SymbolInfo(custom=False, chart_mode=0, select=False, visible=False, session_deals=0, session_buy_orders=0, session_sell_orders=0, volume=0, volumehigh=0, volumelow=0, time=0, digits=5, spread=0, spread_float=True, ticks_bookdepth=0, trade_calc_mode=0, trade_mode=4, start_time=0, expiration_time=0, trade_stops_level=0, trade_freeze_level=0, trade_exemode=2, swap_mode=1, swap_rollover3days=3, margin_hedged_use_leg=False, expiration_mode=15, filling_mode=3, order_mode=127, order_gtc_mode=0, option_mode=0, option_right=0, bid=0.0, bidhigh=0.0, bidlow=0.0, ask=0.0, askhigh=0.0, asklow=0.0, last=0.0, lasthigh=0.0, lastlow=0.0, volume_real=0.0, volumehigh_real=0.0, volumelow_real=0.0, option_strike=0.0, point=1e-05, trade_tick_value=0.0, trade_tick_value_profit=0.0, trade_tick_value_loss=0.0, trade_tick_size=1e-05, trade_contract_size=100000.0, trade_accrued_interest=0.0, trade_face_value=0.0, trade_liquidity_rate=0.0, volume_min=0.01, volume_max=200.0, volume_step=0.01, volume_limit=0.0, swap_long=-4.8453, swap_short=-1.9793, margin_initial=0.0, margin_maintenance=0.0, session_volume=0.0, session_turnover=0.0, session_interest=0.0, session_buy_orders_volume=0.0, session_sell_orders_volume=0.0, session_open=0.0, session_close=0.0, session_aw=0.0, session_price_settlement=0.0, session_price_limit_min=0.0, session_price_limit_max=0.0, margin_hedged=0.0, price_change=0.0, price_volatility=0.0, price_theoretical=0.0, price_greeks_delta=0.0, price_greeks_theta=0.0, price_greeks_gamma=0.0, price_greeks_vega=0.0, price_greeks_rho=0.0, price_greeks_omega=0.0, price_sensitivity=0.0, basis='', category='Minors', currency_base='GBP', currency_profit='NZD', currency_margin='GBP', bank='', description='Great Britain Pound vs New Zealand Dollar', exchange='', formula='', isin='', name='GBPNZDm', page='', path='Forex_group\\\\GBPNZDm'), SymbolInfo(custom=False, chart_mode=0, select=False, visible=False, session_deals=0, session_buy_orders=0, session_sell_orders=0, volume=0, volumehigh=0, volumelow=0, time=0, digits=5, spread=0, spread_float=True, ticks_bookdepth=0, trade_calc_mode=5, trade_mode=4, start_time=0, expiration_time=0, trade_stops_level=0, trade_freeze_level=0, trade_exemode=2, swap_mode=1, swap_rollover3days=3, margin_hedged_use_leg=False, expiration_mode=15, filling_mode=3, order_mode=127, order_gtc_mode=0, option_mode=0, option_right=0, bid=0.0, bidhigh=0.0, bidlow=0.0, ask=0.0, askhigh=0.0, asklow=0.0, last=0.0, lasthigh=0.0, lastlow=0.0, volume_real=0.0, volumehigh_real=0.0, volumelow_real=0.0, option_strike=0.0, point=1e-05, trade_tick_value=0.0, trade_tick_value_profit=0.0, trade_tick_value_loss=0.0, trade_tick_size=1e-05, trade_contract_size=100000.0, trade_accrued_interest=0.0, trade_face_value=0.0, trade_liquidity_rate=0.0, volume_min=0.01, volume_max=200.0, volume_step=0.01, volume_limit=0.0, swap_long=-52.15901835, swap_short=0.0, margin_initial=100000.0, margin_maintenance=0.0, session_volume=0.0, session_turnover=0.0, session_interest=0.0, session_buy_orders_volume=0.0, session_sell_orders_volume=0.0, session_open=0.0, session_close=0.0, session_aw=0.0, session_price_settlement=0.0, session_price_limit_min=0.0, session_price_limit_max=0.0, margin_hedged=0.0, price_change=0.0, price_volatility=0.0, price_theoretical=0.0, price_greeks_delta=0.0, price_greeks_theta=0.0, price_greeks_gamma=0.0, price_greeks_vega=0.0, price_greeks_rho=0.0, price_greeks_omega=0.0, price_sensitivity=0.0, basis='', category='Exotic', currency_base='GBP', currency_profit='PLN', currency_margin='GBP', bank='', description='Great Britain Pound vs Zloty', exchange='', formula='', isin='', name='GBPPLNm', page='', path='Forex_group\\\\GBPPLNm'), SymbolInfo(custom=False, chart_mode=0, select=False, visible=False, session_deals=0, session_buy_orders=0, session_sell_orders=0, volume=0, volumehigh=0, volumelow=0, time=0, digits=5, spread=0, spread_float=True, ticks_bookdepth=0, trade_calc_mode=5, trade_mode=4, start_time=0, expiration_time=0, trade_stops_level=0, trade_freeze_level=0, trade_exemode=2, swap_mode=1, swap_rollover3days=3, margin_hedged_use_leg=False, expiration_mode=15, filling_mode=3, order_mode=127, order_gtc_mode=0, option_mode=0, option_right=0, bid=0.0, bidhigh=0.0, bidlow=0.0, ask=0.0, askhigh=0.0, asklow=0.0, last=0.0, lasthigh=0.0, lastlow=0.0, volume_real=0.0, volumehigh_real=0.0, volumelow_real=0.0, option_strike=0.0, point=1e-05, trade_tick_value=0.0, trade_tick_value_profit=0.0, trade_tick_value_loss=0.0, trade_tick_size=1e-05, trade_contract_size=100000.0, trade_accrued_interest=0.0, trade_face_value=0.0, trade_liquidity_rate=0.0, volume_min=0.01, volume_max=200.0, volume_step=0.01, volume_limit=0.0, swap_long=0.0, swap_short=-105.8344, margin_initial=100000.0, margin_maintenance=0.0, session_volume=0.0, session_turnover=0.0, session_interest=0.0, session_buy_orders_volume=0.0, session_sell_orders_volume=0.0, session_open=0.0, session_close=0.0, session_aw=0.0, session_price_settlement=0.0, session_price_limit_min=0.0, session_price_limit_max=0.0, margin_hedged=0.0, price_change=0.0, price_volatility=0.0, price_theoretical=0.0, price_greeks_delta=0.0, price_greeks_theta=0.0, price_greeks_gamma=0.0, price_greeks_vega=0.0, price_greeks_rho=0.0, price_greeks_omega=0.0, price_sensitivity=0.0, basis='', category='Exotic', currency_base='GBP', currency_profit='SEK', currency_margin='GBP', bank='', description='Great Britain Pound vs Swedish Krona', exchange='', formula='', isin='', name='GBPSEKm', page='', path='Forex_group\\\\GBPSEKm'), SymbolInfo(custom=False, chart_mode=0, select=False, visible=False, session_deals=0, session_buy_orders=0, session_sell_orders=0, volume=0, volumehigh=0, volumelow=0, time=0, digits=5, spread=0, spread_float=True, ticks_bookdepth=0, trade_calc_mode=5, trade_mode=4, start_time=0, expiration_time=0, trade_stops_level=0, trade_freeze_level=0, trade_exemode=2, swap_mode=1, swap_rollover3days=3, margin_hedged_use_leg=False, expiration_mode=15, filling_mode=3, order_mode=127, order_gtc_mode=0, option_mode=0, option_right=0, bid=0.0, bidhigh=0.0, bidlow=0.0, ask=0.0, askhigh=0.0, asklow=0.0, last=0.0, lasthigh=0.0, lastlow=0.0, volume_real=0.0, volumehigh_real=0.0, volumelow_real=0.0, option_strike=0.0, point=1e-05, trade_tick_value=0.0, trade_tick_value_profit=0.0, trade_tick_value_loss=0.0, trade_tick_size=1e-05, trade_contract_size=100000.0, trade_accrued_interest=0.0, trade_face_value=0.0, trade_liquidity_rate=0.0, volume_min=0.01, volume_max=200.0, volume_step=0.01, volume_limit=0.0, swap_long=-0.8578, swap_short=-16.0235, margin_initial=100000.0, margin_maintenance=0.0, session_volume=0.0, session_turnover=0.0, session_interest=0.0, session_buy_orders_volume=0.0, session_sell_orders_volume=0.0, session_open=0.0, session_close=0.0, session_aw=0.0, session_price_settlement=0.0, session_price_limit_min=0.0, session_price_limit_max=0.0, margin_hedged=0.0, price_change=0.0, price_volatility=0.0, price_theoretical=0.0, price_greeks_delta=0.0, price_greeks_theta=0.0, price_greeks_gamma=0.0, price_greeks_vega=0.0, price_greeks_rho=0.0, price_greeks_omega=0.0, price_sensitivity=0.0, basis='', category='Exotic', currency_base='GBP', currency_profit='SGD', currency_margin='GBP', bank='', description='Great Britain Pound vs Singapore Dollar', exchange='', formula='', isin='', name='GBPSGDm', page='', path='Forex_group\\\\GBPSGDm'), SymbolInfo(custom=False, chart_mode=0, select=False, visible=False, session_deals=0, session_buy_orders=0, session_sell_orders=0, volume=0, volumehigh=0, volumelow=0, time=0, digits=5, spread=0, spread_float=True, ticks_bookdepth=0, trade_calc_mode=5, trade_mode=3, start_time=0, expiration_time=0, trade_stops_level=0, trade_freeze_level=0, trade_exemode=2, swap_mode=1, swap_rollover3days=3, margin_hedged_use_leg=False, expiration_mode=15, filling_mode=3, order_mode=127, order_gtc_mode=0, option_mode=0, option_right=0, bid=0.0, bidhigh=0.0, bidlow=0.0, ask=0.0, askhigh=0.0, asklow=0.0, last=0.0, lasthigh=0.0, lastlow=0.0, volume_real=0.0, volumehigh_real=0.0, volumelow_real=0.0, option_strike=0.0, point=1e-05, trade_tick_value=0.0, trade_tick_value_profit=0.0, trade_tick_value_loss=0.0, trade_tick_size=1e-05, trade_contract_size=100000.0, trade_accrued_interest=0.0, trade_face_value=0.0, trade_liquidity_rate=0.0, volume_min=0.01, volume_max=200.0, volume_step=0.01, volume_limit=0.0, swap_long=-3235.2183, swap_short=-728.4298, margin_initial=100000.0, margin_maintenance=0.0, session_volume=0.0, session_turnover=0.0, session_interest=0.0, session_buy_orders_volume=0.0, session_sell_orders_volume=0.0, session_open=0.0, session_close=0.0, session_aw=0.0, session_price_settlement=0.0, session_price_limit_min=0.0, session_price_limit_max=0.0, margin_hedged=0.0, price_change=0.0, price_volatility=0.0, price_theoretical=0.0, price_greeks_delta=0.0, price_greeks_theta=0.0, price_greeks_gamma=0.0, price_greeks_vega=0.0, price_greeks_rho=0.0, price_greeks_omega=0.0, price_sensitivity=0.0, basis='', category='Exotic', currency_base='GBP', currency_profit='TRY', currency_margin='GBP', bank='', description='Great Britain Pound vs New Turkish Lira', exchange='', formula='', isin='', name='GBPTRYm', page='', path='Forex_group\\\\GBPTRYm'), SymbolInfo(custom=False, chart_mode=0, select=False, visible=False, session_deals=0, session_buy_orders=0, session_sell_orders=0, volume=0, volumehigh=0, volumelow=0, time=0, digits=5, spread=0, spread_float=True, ticks_bookdepth=0, trade_calc_mode=0, trade_mode=4, start_time=0, expiration_time=0, trade_stops_level=0, trade_freeze_level=0, trade_exemode=2, swap_mode=1, swap_rollover3days=3, margin_hedged_use_leg=False, expiration_mode=15, filling_mode=3, order_mode=127, order_gtc_mode=0, option_mode=0, option_right=0, bid=0.0, bidhigh=0.0, bidlow=0.0, ask=0.0, askhigh=0.0, asklow=0.0, last=0.0, lasthigh=0.0, lastlow=0.0, volume_real=0.0, volumehigh_real=0.0, volumelow_real=0.0, option_strike=0.0, point=1e-05, trade_tick_value=1.0, trade_tick_value_profit=1.0, trade_tick_value_loss=1.0, trade_tick_size=1e-05, trade_contract_size=100000.0, trade_accrued_interest=0.0, trade_face_value=0.0, trade_liquidity_rate=0.0, volume_min=0.01, volume_max=200.0, volume_step=0.01, volume_limit=0.0, swap_long=-1.8708, swap_short=-1.1063, margin_initial=0.0, margin_maintenance=0.0, session_volume=0.0, session_turnover=0.0, session_interest=0.0, session_buy_orders_volume=0.0, session_sell_orders_volume=0.0, session_open=0.0, session_close=0.0, session_aw=0.0, session_price_settlement=0.0, session_price_limit_min=0.0, session_price_limit_max=0.0, margin_hedged=0.0, price_change=0.0, price_volatility=0.0, price_theoretical=0.0, price_greeks_delta=0.0, price_greeks_theta=0.0, price_greeks_gamma=0.0, price_greeks_vega=0.0, price_greeks_rho=0.0, price_greeks_omega=0.0, price_sensitivity=0.0, basis='', category='Majors', currency_base='GBP', currency_profit='USD', currency_margin='GBP', bank='', description='Great Britain Pound vs US Dollar', exchange='', formula='', isin='', name='GBPUSDm', page='', path='Forex_group\\\\GBPUSDm'), SymbolInfo(custom=False, chart_mode=0, select=False, visible=False, session_deals=0, session_buy_orders=0, session_sell_orders=0, volume=0, volumehigh=0, volumelow=0, time=0, digits=5, spread=0, spread_float=True, ticks_bookdepth=0, trade_calc_mode=5, trade_mode=4, start_time=0, expiration_time=0, trade_stops_level=0, trade_freeze_level=0, trade_exemode=2, swap_mode=1, swap_rollover3days=3, margin_hedged_use_leg=False, expiration_mode=15, filling_mode=3, order_mode=127, order_gtc_mode=0, option_mode=0, option_right=0, bid=0.0, bidhigh=0.0, bidlow=0.0, ask=0.0, askhigh=0.0, asklow=0.0, last=0.0, lasthigh=0.0, lastlow=0.0, volume_real=0.0, volumehigh_real=0.0, volumelow_real=0.0, option_strike=0.0, point=1e-05, trade_tick_value=0.0, trade_tick_value_profit=0.0, trade_tick_value_loss=0.0, trade_tick_size=1e-05, trade_contract_size=100000.0, trade_accrued_interest=0.0, trade_face_value=0.0, trade_liquidity_rate=0.0, volume_min=0.01, volume_max=200.0, volume_step=0.01, volume_limit=0.0, swap_long=-295.603, swap_short=0.0, margin_initial=100000.0, margin_maintenance=0.0, session_volume=0.0, session_turnover=0.0, session_interest=0.0, session_buy_orders_volume=0.0, session_sell_orders_volume=0.0, session_open=0.0, session_close=0.0, session_aw=0.0, session_price_settlement=0.0, session_price_limit_min=0.0, session_price_limit_max=0.0, margin_hedged=0.0, price_change=0.0, price_volatility=0.0, price_theoretical=0.0, price_greeks_delta=0.0, price_greeks_theta=0.0, price_greeks_gamma=0.0, price_greeks_vega=0.0, price_greeks_rho=0.0, price_greeks_omega=0.0, price_sensitivity=0.0, basis='', category='Exotic', currency_base='GBP', currency_profit='ZAR', currency_margin='GBP', bank='', description='Great Britain Pound vs South African Rand', exchange='', formula='', isin='', name='GBPZARm', page='', path='Forex_group\\\\GBPZARm'))\n"
     ]
    }
   ],
   "source": [
    "print(mt5.symbols_get(\n",
    "   group=\"GBP\"    \n",
    "))\n",
    "symbols = mt5.symbols_get(group=\"GBP\")"
   ]
  },
  {
   "cell_type": "code",
   "execution_count": 33,
   "metadata": {},
   "outputs": [
    {
     "name": "stdout",
     "output_type": "stream",
     "text": [
      "None\n"
     ]
    }
   ],
   "source": [
    "print(mt5.symbol_info(\"EURUSD\"))"
   ]
  },
  {
   "cell_type": "code",
   "execution_count": 34,
   "metadata": {},
   "outputs": [],
   "source": [
    "symbol_info=mt5.symbol_info(\"EURJPY\")\n",
    "if symbol_info!=None:\n",
    "    # display the terminal data 'as is'    \n",
    "    print(symbol_info)\n",
    "    print(\"EURJPY: spread =\",symbol_info.spread,\"  digits =\",symbol_info.digits)\n",
    "    # display symbol properties as a list\n",
    "    print(\"Show symbol_info(\\\"EURJPY\\\")._asdict():\")\n",
    "    symbol_info_dict = mt5.symbol_info(\"EURJPY\")._asdict()\n",
    "    for prop in symbol_info_dict:\n",
    "        print(\"  {}={}\".format(prop, symbol_info_dict[prop]))"
   ]
  },
  {
   "cell_type": "code",
   "execution_count": 35,
   "metadata": {},
   "outputs": [
    {
     "name": "stdout",
     "output_type": "stream",
     "text": [
      "Failed to select EURCAD, error code = (-1, 'Terminal: Call failed')\n"
     ]
    }
   ],
   "source": [
    "selected=mt5.symbol_select(\"EURCAD\",True)\n",
    "if not selected:\n",
    "    print(\"Failed to select EURCAD, error code =\",mt5.last_error())\n",
    "else:\n",
    "    symbol_info=mt5.symbol_info(\"EURCAD\")\n",
    "    print(symbol_info)\n",
    "    print(\"EURCAD: currency_base =\",symbol_info.currency_base,\"  currency_profit =\",symbol_info.currency_profit,\"  currency_margin =\",symbol_info.currency_margin)\n",
    "    print()\n",
    " \n",
    "    # get symbol properties in the form of a dictionary\n",
    "    print(\"Show symbol_info()._asdict():\")\n",
    "    symbol_info_dict = symbol_info._asdict()\n",
    "    for prop in symbol_info_dict:\n",
    "        print(\"  {}={}\".format(prop, symbol_info_dict[prop]))\n",
    "    print()\n",
    " \n",
    "    # convert the dictionary into DataFrame and print\n",
    "    df=pd.DataFrame(list(symbol_info_dict.items()),columns=['property','value'])\n",
    "    print(\"symbol_info_dict() as dataframe:\")\n",
    "    print(df)"
   ]
  },
  {
   "cell_type": "code",
   "execution_count": null,
   "metadata": {},
   "outputs": [
    {
     "name": "stdout",
     "output_type": "stream",
     "text": [
      "Hello\n"
     ]
    }
   ],
   "source": [
    "print(\"Hello\")"
   ]
  },
  {
   "cell_type": "code",
   "execution_count": 36,
   "metadata": {},
   "outputs": [],
   "source": [
    "mt5.market_book_add(\"AAPL\", \"NASDAQ\")"
   ]
  },
  {
   "cell_type": "code",
   "execution_count": 37,
   "metadata": {},
   "outputs": [],
   "source": [
    "data_struct = mt5.copy_rates_from(\"EURUSD\", mt5.TIMEFRAME_M1, datetime(2022,1,1),10000)"
   ]
  },
  {
   "cell_type": "code",
   "execution_count": 40,
   "metadata": {},
   "outputs": [
    {
     "name": "stdout",
     "output_type": "stream",
     "text": [
      "None\n"
     ]
    }
   ],
   "source": [
    "print(data_struct)"
   ]
  },
  {
   "cell_type": "code",
   "execution_count": 41,
   "metadata": {},
   "outputs": [
    {
     "ename": "TypeError",
     "evalue": "'NoneType' object is not iterable",
     "output_type": "error",
     "traceback": [
      "\u001b[1;31m---------------------------------------------------------------------------\u001b[0m",
      "\u001b[1;31mTypeError\u001b[0m                                 Traceback (most recent call last)",
      "\u001b[1;32mg:\\Forex dev\\forex primer.ipynb Cell 22\u001b[0m line \u001b[0;36m2\n\u001b[0;32m      <a href='vscode-notebook-cell:/g%3A/Forex%20dev/forex%20primer.ipynb#X30sZmlsZQ%3D%3D?line=0'>1</a>\u001b[0m rates \u001b[39m=\u001b[39m mt5\u001b[39m.\u001b[39mcopy_rates_from_pos(\u001b[39m\"\u001b[39m\u001b[39mGBPUSD\u001b[39m\u001b[39m\"\u001b[39m, mt5\u001b[39m.\u001b[39mTIMEFRAME_D1, \u001b[39m0\u001b[39m, \u001b[39m10\u001b[39m)\n\u001b[1;32m----> <a href='vscode-notebook-cell:/g%3A/Forex%20dev/forex%20primer.ipynb#X30sZmlsZQ%3D%3D?line=1'>2</a>\u001b[0m \u001b[39mfor\u001b[39;00m rate \u001b[39min\u001b[39;00m rates:\n\u001b[0;32m      <a href='vscode-notebook-cell:/g%3A/Forex%20dev/forex%20primer.ipynb#X30sZmlsZQ%3D%3D?line=2'>3</a>\u001b[0m     \u001b[39mprint\u001b[39m(rate)\n",
      "\u001b[1;31mTypeError\u001b[0m: 'NoneType' object is not iterable"
     ]
    }
   ],
   "source": [
    "rates = mt5.copy_rates_from_pos(\"GBPUSD\", mt5.TIMEFRAME_D1, 0, 10)\n",
    "for rate in rates:\n",
    "    print(rate)"
   ]
  },
  {
   "cell_type": "code",
   "execution_count": 43,
   "metadata": {},
   "outputs": [],
   "source": [
    "pd.set_option('display.max_columns', 500) # number of columns to be displayed\n",
    "pd.set_option('display.width', 1500)      # max table width to display\n",
    "# import pytz module for working with time zone\n",
    "import pytz"
   ]
  },
  {
   "cell_type": "code",
   "execution_count": 44,
   "metadata": {},
   "outputs": [
    {
     "name": "stdout",
     "output_type": "stream",
     "text": [
      "2023-10-11 17:02:50.648460+03:00\n"
     ]
    }
   ],
   "source": [
    "from datetime import datetime as dt\n",
    "nairobi_timezone = pytz.timezone('Africa/Nairobi')\n",
    "print(dt.now(nairobi_timezone))"
   ]
  },
  {
   "cell_type": "code",
   "execution_count": 45,
   "metadata": {},
   "outputs": [],
   "source": [
    "nairobi_timezone_from = dt(2020, 1, 10, tzinfo=pytz.timezone('Etc/UTC'))\n",
    "nairobi_timezone_to = dt(2023, 8, 1, tzinfo=pytz.timezone('Etc/UTC'))"
   ]
  },
  {
   "cell_type": "code",
   "execution_count": 46,
   "metadata": {},
   "outputs": [],
   "source": [
    "rates = mt5.copy_rates_range(\"USD/JPY\", mt5.TIMEFRAME_M5, nairobi_timezone_from, nairobi_timezone_to)\n",
    "rates_frame = pd.DataFrame(rates)"
   ]
  },
  {
   "cell_type": "code",
   "execution_count": 47,
   "metadata": {},
   "outputs": [
    {
     "name": "stdout",
     "output_type": "stream",
     "text": [
      "Empty DataFrame\n",
      "Columns: []\n",
      "Index: []\n"
     ]
    }
   ],
   "source": [
    "print(rates_frame.head(10))"
   ]
  },
  {
   "cell_type": "code",
   "execution_count": 48,
   "metadata": {},
   "outputs": [
    {
     "name": "stdout",
     "output_type": "stream",
     "text": [
      "Display obtained data 'as is'\n"
     ]
    },
    {
     "ename": "TypeError",
     "evalue": "'NoneType' object is not iterable",
     "output_type": "error",
     "traceback": [
      "\u001b[1;31m---------------------------------------------------------------------------\u001b[0m",
      "\u001b[1;31mTypeError\u001b[0m                                 Traceback (most recent call last)",
      "\u001b[1;32mg:\\Forex dev\\forex primer.ipynb Cell 28\u001b[0m line \u001b[0;36m1\n\u001b[0;32m     <a href='vscode-notebook-cell:/g%3A/Forex%20dev/forex%20primer.ipynb#X36sZmlsZQ%3D%3D?line=15'>16</a>\u001b[0m \u001b[39mprint\u001b[39m(\u001b[39m\"\u001b[39m\u001b[39mDisplay obtained data \u001b[39m\u001b[39m'\u001b[39m\u001b[39mas is\u001b[39m\u001b[39m'\u001b[39m\u001b[39m\"\u001b[39m)\n\u001b[0;32m     <a href='vscode-notebook-cell:/g%3A/Forex%20dev/forex%20primer.ipynb#X36sZmlsZQ%3D%3D?line=16'>17</a>\u001b[0m counter\u001b[39m=\u001b[39m\u001b[39m0\u001b[39m\n\u001b[1;32m---> <a href='vscode-notebook-cell:/g%3A/Forex%20dev/forex%20primer.ipynb#X36sZmlsZQ%3D%3D?line=17'>18</a>\u001b[0m \u001b[39mfor\u001b[39;00m rate \u001b[39min\u001b[39;00m rates:\n\u001b[0;32m     <a href='vscode-notebook-cell:/g%3A/Forex%20dev/forex%20primer.ipynb#X36sZmlsZQ%3D%3D?line=18'>19</a>\u001b[0m     counter\u001b[39m+\u001b[39m\u001b[39m=\u001b[39m\u001b[39m1\u001b[39m\n\u001b[0;32m     <a href='vscode-notebook-cell:/g%3A/Forex%20dev/forex%20primer.ipynb#X36sZmlsZQ%3D%3D?line=19'>20</a>\u001b[0m     \u001b[39mif\u001b[39;00m counter\u001b[39m<\u001b[39m\u001b[39m=\u001b[39m\u001b[39m10\u001b[39m:\n",
      "\u001b[1;31mTypeError\u001b[0m: 'NoneType' object is not iterable"
     ]
    }
   ],
   "source": [
    "if not mt5.initialize():\n",
    "    print(\"initialize() failed, error code =\",mt5.last_error())\n",
    "    quit()\n",
    " \n",
    "# set time zone to UTC\n",
    "timezone = pytz.timezone(\"Etc/UTC\")\n",
    "# create 'datetime' objects in UTC time zone to avoid the implementation of a local time zone offset\n",
    "utc_from = datetime(2020, 1, 10, tzinfo=timezone)\n",
    "utc_to = datetime(2020, 1, 11, hour = 13, tzinfo=timezone)\n",
    "# get bars from USDJPY M5 within the interval of 2020.01.10 00:00 - 2020.01.11 13:00 in UTC time zone\n",
    "rates = mt5.copy_rates_range(\"USDJPY\", mt5.TIMEFRAME_M5, utc_from, utc_to)\n",
    " \n",
    "\n",
    " \n",
    "# display each element of obtained data in a new line\n",
    "print(\"Display obtained data 'as is'\")\n",
    "counter=0\n",
    "for rate in rates:\n",
    "    counter+=1\n",
    "    if counter<=10:\n",
    "        print(rate)\n",
    " \n",
    "# create DataFrame out of the obtained data\n",
    "rates_frame = pd.DataFrame(rates)\n",
    "# convert time in seconds into the 'datetime' format\n",
    "rates_frame['time']=pd.to_datetime(rates_frame['time'], unit='s')\n",
    " \n",
    "# display data\n",
    "print(\"\\nDisplay dataframe with data\")\n",
    "print(rates_frame.head(10))"
   ]
  },
  {
   "cell_type": "code",
   "execution_count": 50,
   "metadata": {},
   "outputs": [
    {
     "ename": "TypeError",
     "evalue": "object of type 'NoneType' has no len()",
     "output_type": "error",
     "traceback": [
      "\u001b[1;31m---------------------------------------------------------------------------\u001b[0m",
      "\u001b[1;31mTypeError\u001b[0m                                 Traceback (most recent call last)",
      "\u001b[1;32mg:\\Forex dev\\forex primer.ipynb Cell 29\u001b[0m line \u001b[0;36m6\n\u001b[0;32m      <a href='vscode-notebook-cell:/g%3A/Forex%20dev/forex%20primer.ipynb#X40sZmlsZQ%3D%3D?line=3'>4</a>\u001b[0m \u001b[39m# request 100 000 EURUSD ticks starting from 10.01.2019 in UTC time zone\u001b[39;00m\n\u001b[0;32m      <a href='vscode-notebook-cell:/g%3A/Forex%20dev/forex%20primer.ipynb#X40sZmlsZQ%3D%3D?line=4'>5</a>\u001b[0m ticks \u001b[39m=\u001b[39m mt5\u001b[39m.\u001b[39mcopy_ticks_from(\u001b[39m\"\u001b[39m\u001b[39mEURUSD\u001b[39m\u001b[39m\"\u001b[39m, utc_from, \u001b[39m100000\u001b[39m, mt5\u001b[39m.\u001b[39mCOPY_TICKS_ALL)\n\u001b[1;32m----> <a href='vscode-notebook-cell:/g%3A/Forex%20dev/forex%20primer.ipynb#X40sZmlsZQ%3D%3D?line=5'>6</a>\u001b[0m \u001b[39mprint\u001b[39m(\u001b[39m\"\u001b[39m\u001b[39mTicks received:\u001b[39m\u001b[39m\"\u001b[39m,\u001b[39mlen\u001b[39;49m(ticks))\n\u001b[0;32m      <a href='vscode-notebook-cell:/g%3A/Forex%20dev/forex%20primer.ipynb#X40sZmlsZQ%3D%3D?line=8'>9</a>\u001b[0m \u001b[39m# display data on each tick on a new line\u001b[39;00m\n\u001b[0;32m     <a href='vscode-notebook-cell:/g%3A/Forex%20dev/forex%20primer.ipynb#X40sZmlsZQ%3D%3D?line=9'>10</a>\u001b[0m \u001b[39mprint\u001b[39m(\u001b[39m\"\u001b[39m\u001b[39mDisplay obtained ticks \u001b[39m\u001b[39m'\u001b[39m\u001b[39mas is\u001b[39m\u001b[39m'\u001b[39m\u001b[39m\"\u001b[39m)\n",
      "\u001b[1;31mTypeError\u001b[0m: object of type 'NoneType' has no len()"
     ]
    }
   ],
   "source": [
    "timezone = pytz.timezone(\"Etc/UTC\")\n",
    "# create 'datetime' object in UTC time zone to avoid the implementation of a local time zone offset\n",
    "utc_from = datetime(2023, 1, 10, tzinfo=timezone)\n",
    "# request 100 000 EURUSD ticks starting from 10.01.2019 in UTC time zone\n",
    "ticks = mt5.copy_ticks_from(\"EURUSD\", utc_from, 100000, mt5.COPY_TICKS_ALL)\n",
    "print(\"Ticks received:\",len(ticks))\n",
    " \n",
    " \n",
    "# display data on each tick on a new line\n",
    "print(\"Display obtained ticks 'as is'\")\n",
    "count = 0\n",
    "for tick in ticks:\n",
    "    count+=1\n",
    "    print(tick)\n",
    "    if count >= 10:\n",
    "        break\n",
    " \n",
    "# create DataFrame out of the obtained data\n",
    "ticks_frame = pd.DataFrame(ticks)\n",
    "# convert time in seconds into the datetime format\n",
    "ticks_frame['time']=pd.to_datetime(ticks_frame['time'], unit='s')\n",
    " \n",
    "# display data\n",
    "print(\"\\nDisplay dataframe with ticks\")\n",
    "print(ticks_frame.head(10))  "
   ]
  },
  {
   "cell_type": "code",
   "execution_count": null,
   "metadata": {},
   "outputs": [
    {
     "name": "stdout",
     "output_type": "stream",
     "text": [
      "Ticks received: 37008\n",
      "Display obtained ticks 'as is'\n",
      "(1578614400, 0.68577, 0.68594, 0., 0, 1578614400820, 134, 0.)\n",
      "(1578614401, 0.68578, 0.68594, 0., 0, 1578614401128, 130, 0.)\n",
      "(1578614401, 0.68575, 0.68594, 0., 0, 1578614401128, 130, 0.)\n",
      "(1578614411, 0.68576, 0.68594, 0., 0, 1578614411388, 130, 0.)\n",
      "(1578614411, 0.68575, 0.68594, 0., 0, 1578614411560, 130, 0.)\n",
      "(1578614414, 0.68576, 0.68595, 0., 0, 1578614414973, 134, 0.)\n",
      "(1578614430, 0.68576, 0.68594, 0., 0, 1578614430188, 4, 0.)\n",
      "(1578614450, 0.68576, 0.68595, 0., 0, 1578614450408, 4, 0.)\n",
      "(1578614450, 0.68576, 0.68594, 0., 0, 1578614450519, 4, 0.)\n",
      "(1578614456, 0.68575, 0.68594, 0., 0, 1578614456363, 130, 0.)\n",
      "\n",
      "Display dataframe with ticks\n",
      "                 time      bid      ask  last  volume       time_msc  flags  volume_real\n",
      "0 2020-01-10 00:00:00  0.68577  0.68594   0.0       0  1578614400820    134          0.0\n",
      "1 2020-01-10 00:00:01  0.68578  0.68594   0.0       0  1578614401128    130          0.0\n",
      "2 2020-01-10 00:00:01  0.68575  0.68594   0.0       0  1578614401128    130          0.0\n",
      "3 2020-01-10 00:00:11  0.68576  0.68594   0.0       0  1578614411388    130          0.0\n",
      "4 2020-01-10 00:00:11  0.68575  0.68594   0.0       0  1578614411560    130          0.0\n",
      "5 2020-01-10 00:00:14  0.68576  0.68595   0.0       0  1578614414973    134          0.0\n",
      "6 2020-01-10 00:00:30  0.68576  0.68594   0.0       0  1578614430188      4          0.0\n",
      "7 2020-01-10 00:00:50  0.68576  0.68595   0.0       0  1578614450408      4          0.0\n",
      "8 2020-01-10 00:00:50  0.68576  0.68594   0.0       0  1578614450519      4          0.0\n",
      "9 2020-01-10 00:00:56  0.68575  0.68594   0.0       0  1578614456363    130          0.0\n"
     ]
    }
   ],
   "source": [
    "if not mt5.initialize():\n",
    "    print(\"initialize() failed, error code =\",mt5.last_error())\n",
    "    quit()\n",
    " \n",
    "timezone = pytz.timezone(\"Etc/UTC\")\n",
    "# create 'datetime' objects in UTC time zone to avoid the implementation of a local time zone offset\n",
    "utc_from = datetime(2020, 1, 10, tzinfo=timezone)\n",
    "utc_to = datetime(2020, 1, 11, tzinfo=timezone)\n",
    "# request AUDUSD ticks within 11.01.2020 - 11.01.2020\n",
    "ticks = mt5.copy_ticks_range(\"AUDUSD\", utc_from, utc_to, mt5.COPY_TICKS_ALL)\n",
    "print(\"Ticks received:\",len(ticks))\n",
    " \n",
    "\n",
    "# display data on each tick on a new line\n",
    "print(\"Display obtained ticks 'as is'\")\n",
    "count = 0\n",
    "for tick in ticks:\n",
    "    count+=1\n",
    "    print(tick)\n",
    "    if count >= 10:\n",
    "        break\n",
    " \n",
    "# create DataFrame out of the obtained data\n",
    "ticks_frame = pd.DataFrame(ticks)\n",
    "# convert time in seconds into the datetime format\n",
    "ticks_frame['time']=pd.to_datetime(ticks_frame['time'], unit='s')\n",
    " \n",
    "# display data\n",
    "print(\"\\nDisplay dataframe with ticks\")\n",
    "print(ticks_frame.head(10)) "
   ]
  },
  {
   "cell_type": "code",
   "execution_count": null,
   "metadata": {},
   "outputs": [
    {
     "name": "stdout",
     "output_type": "stream",
     "text": [
      "Orders not found\n"
     ]
    }
   ],
   "source": [
    "orders=mt5.orders_total()\n",
    "if orders>0:\n",
    "    print(\"Total orders=\",orders)\n",
    "else:\n",
    "    print(\"Orders not found\")"
   ]
  },
  {
   "cell_type": "code",
   "execution_count": 51,
   "metadata": {},
   "outputs": [
    {
     "data": {
      "text/plain": [
       "()"
      ]
     },
     "execution_count": 51,
     "metadata": {},
     "output_type": "execute_result"
    }
   ],
   "source": [
    "mt5.orders_get()"
   ]
  },
  {
   "cell_type": "code",
   "execution_count": 52,
   "metadata": {},
   "outputs": [
    {
     "name": "stdout",
     "output_type": "stream",
     "text": [
      "Account currency: USD\n"
     ]
    }
   ],
   "source": [
    "account_currency=mt5.account_info().currency\n",
    "print(\"Account currency:\",account_currency)\n",
    " "
   ]
  },
  {
   "cell_type": "code",
   "execution_count": 53,
   "metadata": {},
   "outputs": [
    {
     "name": "stdout",
     "output_type": "stream",
     "text": [
      "Symbols to check margin: ('EURUSD', 'GBPUSD', 'USDJPY', 'USDCHF', 'EURJPY', 'GBPJPY')\n",
      "EURUSD not found, skipped\n",
      "GBPUSD not found, skipped\n",
      "USDJPY not found, skipped\n",
      "USDCHF not found, skipped\n",
      "EURJPY not found, skipped\n",
      "GBPJPY not found, skipped\n"
     ]
    }
   ],
   "source": [
    "symbols=(\"EURUSD\",\"GBPUSD\",\"USDJPY\", \"USDCHF\",\"EURJPY\",\"GBPJPY\")\n",
    "print(\"Symbols to check margin:\", symbols)\n",
    "action=mt5.ORDER_TYPE_BUY\n",
    "lot=0.1\n",
    "for symbol in symbols:\n",
    "    symbol_info=mt5.symbol_info(symbol)\n",
    "    if symbol_info is None:\n",
    "        print(symbol,\"not found, skipped\")\n",
    "        continue\n",
    "    if not symbol_info.visible:\n",
    "        print(symbol, \"is not visible, trying to switch on\")\n",
    "        if not mt5.symbol_select(symbol,True):\n",
    "            print(\"symbol_select({}}) failed, skipped\",symbol)\n",
    "            continue\n",
    "    ask=mt5.symbol_info_tick(symbol).ask\n",
    "    margin=mt5.order_calc_margin(action,symbol,lot,ask)\n",
    "    if margin != None:\n",
    "        print(\"   {} buy {} lot margin: {} {}\".format(symbol,lot,margin,account_currency));\n",
    "    else:\n",
    "        print(\"order_calc_margin failed: , error code =\", mt5.last_error())"
   ]
  },
  {
   "cell_type": "code",
   "execution_count": null,
   "metadata": {},
   "outputs": [
    {
     "name": "stdout",
     "output_type": "stream",
     "text": [
      "Account currency: USD\n",
      "Symbols to check margin: ('EURUSD', 'GBPUSD', 'USDJPY')\n",
      "   buy EURUSD 1.0 lot: profit on 200 points => 200.0 USD\n",
      "   sell EURUSD 1.0 lots: profit on 200 points => 200.0 USD\n",
      "\n",
      "   buy GBPUSD 1.0 lot: profit on 200 points => 200.0 USD\n",
      "   sell GBPUSD 1.0 lots: profit on 200 points => 200.0 USD\n",
      "\n",
      "   buy USDJPY 1.0 lot: profit on 200 points => 136.96 USD\n",
      "   sell USDJPY 1.0 lots: profit on 200 points => 137.34 USD\n",
      "\n"
     ]
    }
   ],
   "source": [
    "account_currency=mt5.account_info().currency\n",
    "print(\"Account currency:\",account_currency)\n",
    " \n",
    "# arrange the symbol list\n",
    "symbols = (\"EURUSD\",\"GBPUSD\",\"USDJPY\")\n",
    "print(\"Symbols to check margin:\", symbols)\n",
    "# estimate profit for buying and selling\n",
    "lot=1.0\n",
    "distance=200\n",
    "for symbol in symbols:\n",
    "    symbol_info=mt5.symbol_info(symbol)\n",
    "    if symbol_info is None:\n",
    "        print(symbol,\"not found, skipped\")\n",
    "        continue\n",
    "    if not symbol_info.visible:\n",
    "        print(symbol, \"is not visible, trying to switch on\")\n",
    "        if not mt5.symbol_select(symbol,True):\n",
    "            print(\"symbol_select({}}) failed, skipped\",symbol)\n",
    "            continue\n",
    "    point=mt5.symbol_info(symbol).point\n",
    "    symbol_tick=mt5.symbol_info_tick(symbol)\n",
    "    ask=symbol_tick.ask\n",
    "    bid=symbol_tick.bid\n",
    "    buy_profit=mt5.order_calc_profit(mt5.ORDER_TYPE_BUY,symbol,lot,ask,ask+distance*point)\n",
    "    if buy_profit!=None:\n",
    "        print(\"   buy {} {} lot: profit on {} points => {} {}\".format(symbol,lot,distance,buy_profit,account_currency));\n",
    "    else:\n",
    "        print(\"order_calc_profit(ORDER_TYPE_BUY) failed, error code =\",mt5.last_error())\n",
    "    sell_profit=mt5.order_calc_profit(mt5.ORDER_TYPE_SELL,symbol,lot,bid,bid-distance*point)\n",
    "    if sell_profit!=None:\n",
    "        print(\"   sell {} {} lots: profit on {} points => {} {}\".format(symbol,lot,distance,sell_profit,account_currency));\n",
    "    else:\n",
    "        print(\"order_calc_profit(ORDER_TYPE_SELL) failed, error code =\",mt5.last_error())\n",
    "    print()"
   ]
  },
  {
   "cell_type": "code",
   "execution_count": 54,
   "metadata": {},
   "outputs": [],
   "source": [
    "eurodf = pd.read_csv('C:\\\\Users\\\\Lex\\\\Downloads\\\\eurofxref\\\\eurofxref.csv')"
   ]
  },
  {
   "cell_type": "code",
   "execution_count": 55,
   "metadata": {},
   "outputs": [
    {
     "data": {
      "text/html": [
       "<div>\n",
       "<style scoped>\n",
       "    .dataframe tbody tr th:only-of-type {\n",
       "        vertical-align: middle;\n",
       "    }\n",
       "\n",
       "    .dataframe tbody tr th {\n",
       "        vertical-align: top;\n",
       "    }\n",
       "\n",
       "    .dataframe thead th {\n",
       "        text-align: right;\n",
       "    }\n",
       "</style>\n",
       "<table border=\"1\" class=\"dataframe\">\n",
       "  <thead>\n",
       "    <tr style=\"text-align: right;\">\n",
       "      <th></th>\n",
       "      <th>Date</th>\n",
       "      <th>USD</th>\n",
       "      <th>JPY</th>\n",
       "      <th>BGN</th>\n",
       "      <th>CZK</th>\n",
       "      <th>DKK</th>\n",
       "      <th>GBP</th>\n",
       "      <th>HUF</th>\n",
       "      <th>PLN</th>\n",
       "      <th>RON</th>\n",
       "      <th>SEK</th>\n",
       "      <th>CHF</th>\n",
       "      <th>ISK</th>\n",
       "      <th>NOK</th>\n",
       "      <th>TRY</th>\n",
       "      <th>AUD</th>\n",
       "      <th>BRL</th>\n",
       "      <th>CAD</th>\n",
       "      <th>CNY</th>\n",
       "      <th>HKD</th>\n",
       "      <th>IDR</th>\n",
       "      <th>ILS</th>\n",
       "      <th>INR</th>\n",
       "      <th>KRW</th>\n",
       "      <th>MXN</th>\n",
       "      <th>MYR</th>\n",
       "      <th>NZD</th>\n",
       "      <th>PHP</th>\n",
       "      <th>SGD</th>\n",
       "      <th>THB</th>\n",
       "      <th>ZAR</th>\n",
       "      <th></th>\n",
       "    </tr>\n",
       "  </thead>\n",
       "  <tbody>\n",
       "    <tr>\n",
       "      <th>0</th>\n",
       "      <td>16 August 2023</td>\n",
       "      <td>1.0916</td>\n",
       "      <td>159.07</td>\n",
       "      <td>1.9558</td>\n",
       "      <td>24.06</td>\n",
       "      <td>7.452</td>\n",
       "      <td>0.85645</td>\n",
       "      <td>385.45</td>\n",
       "      <td>4.4528</td>\n",
       "      <td>4.9358</td>\n",
       "      <td>11.828</td>\n",
       "      <td>0.9605</td>\n",
       "      <td>144.1</td>\n",
       "      <td>11.453</td>\n",
       "      <td>29.5411</td>\n",
       "      <td>1.6895</td>\n",
       "      <td>5.4276</td>\n",
       "      <td>1.4726</td>\n",
       "      <td>7.9657</td>\n",
       "      <td>8.5466</td>\n",
       "      <td>16685.26</td>\n",
       "      <td>4.0932</td>\n",
       "      <td>90.8435</td>\n",
       "      <td>1461.11</td>\n",
       "      <td>18.6429</td>\n",
       "      <td>5.0536</td>\n",
       "      <td>1.8282</td>\n",
       "      <td>61.852</td>\n",
       "      <td>1.4822</td>\n",
       "      <td>38.599</td>\n",
       "      <td>20.8671</td>\n",
       "      <td></td>\n",
       "    </tr>\n",
       "  </tbody>\n",
       "</table>\n",
       "</div>"
      ],
      "text/plain": [
       "             Date     USD     JPY     BGN    CZK    DKK      GBP     HUF     PLN     RON     SEK     CHF    ISK     NOK      TRY     AUD     BRL     CAD     CNY     HKD       IDR     ILS      INR      KRW      MXN     MYR     NZD     PHP     SGD     THB      ZAR   \n",
       "0  16 August 2023  1.0916  159.07  1.9558  24.06  7.452  0.85645  385.45  4.4528  4.9358  11.828  0.9605  144.1  11.453  29.5411  1.6895  5.4276  1.4726  7.9657  8.5466  16685.26  4.0932  90.8435  1461.11  18.6429  5.0536  1.8282  61.852  1.4822  38.599  20.8671   "
      ]
     },
     "execution_count": 55,
     "metadata": {},
     "output_type": "execute_result"
    }
   ],
   "source": [
    "eurodf.head(10)"
   ]
  },
  {
   "cell_type": "code",
   "execution_count": 56,
   "metadata": {},
   "outputs": [
    {
     "name": "stdout",
     "output_type": "stream",
     "text": [
      "{'amount': 1.0, 'base': 'USD', 'date': '2023-10-10', 'rates': {'EUR': 0.945}}\n"
     ]
    }
   ],
   "source": [
    "import requests\n",
    "\n",
    "url = 'https://api.frankfurter.app/latest'  # Corrected URL with 'https://'\n",
    "response = requests.get(url, params={'base': 'USD','symbols': 'EUR','date':'2020-01-01'})\n",
    "\n",
    "if response.status_code == 200:\n",
    "    data = response.json()  # Convert response content to JSON\n",
    "    print(data)\n",
    "else:\n",
    "    print('Request failed with status code:', response.status_code)"
   ]
  },
  {
   "cell_type": "code",
   "execution_count": 57,
   "metadata": {},
   "outputs": [
    {
     "name": "stdout",
     "output_type": "stream",
     "text": [
      "Empty DataFrame\n",
      "Columns: []\n",
      "Index: []\n"
     ]
    }
   ],
   "source": [
    "from datetime import datetime \n",
    "if not mt5.initialize():\n",
    "    print(\"initialize() failed, error code =\",mt5.last_error())\n",
    "    quit()\n",
    "\n",
    "start_date = datetime(2020, 1, 1)\n",
    "end_date = datetime(2020, 1, 2)\n",
    "time_frame = mt5.TIMEFRAME_M5\n",
    "start_date = int(start_date.timestamp())\n",
    "end_date= int(end_date.timestamp())\n",
    "rates = mt5.copy_rates_from(symbol, time_frame, start_date, end_date)\n",
    "\n",
    "# Convert data to DataFrame\n",
    "df = pd.DataFrame(rates)\n",
    "print(df.head(20))"
   ]
  },
  {
   "cell_type": "code",
   "execution_count": 58,
   "metadata": {},
   "outputs": [
    {
     "ename": "AttributeError",
     "evalue": "'DataFrame' object has no attribute 'close'",
     "output_type": "error",
     "traceback": [
      "\u001b[1;31m---------------------------------------------------------------------------\u001b[0m",
      "\u001b[1;31mAttributeError\u001b[0m                            Traceback (most recent call last)",
      "\u001b[1;32m~\\AppData\\Local\\Temp\\ipykernel_9084\\1934651526.py\u001b[0m in \u001b[0;36m?\u001b[1;34m()\u001b[0m\n\u001b[0;32m     21\u001b[0m \u001b[1;33m\u001b[0m\u001b[0m\n\u001b[0;32m     22\u001b[0m \u001b[1;32mwhile\u001b[0m \u001b[1;32mTrue\u001b[0m\u001b[1;33m:\u001b[0m\u001b[1;33m\u001b[0m\u001b[1;33m\u001b[0m\u001b[0m\n\u001b[0;32m     23\u001b[0m     \u001b[0mprices\u001b[0m \u001b[1;33m=\u001b[0m \u001b[0mmt5\u001b[0m\u001b[1;33m.\u001b[0m\u001b[0mcopy_rates_from_pos\u001b[0m\u001b[1;33m(\u001b[0m\u001b[0msymbol\u001b[0m\u001b[1;33m,\u001b[0m \u001b[0mmt5\u001b[0m\u001b[1;33m.\u001b[0m\u001b[0mTIMEFRAME_M1\u001b[0m\u001b[1;33m,\u001b[0m \u001b[1;36m0\u001b[0m\u001b[1;33m,\u001b[0m \u001b[0mii_period\u001b[0m\u001b[1;33m)\u001b[0m\u001b[1;33m\u001b[0m\u001b[1;33m\u001b[0m\u001b[0m\n\u001b[0;32m     24\u001b[0m     \u001b[0mpricesdf\u001b[0m \u001b[1;33m=\u001b[0m \u001b[0mpd\u001b[0m\u001b[1;33m.\u001b[0m\u001b[0mDataFrame\u001b[0m\u001b[1;33m(\u001b[0m\u001b[0mprices\u001b[0m\u001b[1;33m)\u001b[0m\u001b[1;33m\u001b[0m\u001b[1;33m\u001b[0m\u001b[0m\n\u001b[1;32m---> 25\u001b[1;33m     \u001b[0mclose_prices\u001b[0m \u001b[1;33m=\u001b[0m \u001b[1;33m[\u001b[0m\u001b[0mprice\u001b[0m \u001b[1;32mfor\u001b[0m \u001b[0mprice\u001b[0m \u001b[1;32min\u001b[0m \u001b[0mpricesdf\u001b[0m\u001b[1;33m.\u001b[0m\u001b[0mclose\u001b[0m\u001b[1;33m]\u001b[0m  \u001b[1;31m# Corrected line\u001b[0m\u001b[1;33m\u001b[0m\u001b[1;33m\u001b[0m\u001b[0m\n\u001b[0m\u001b[0;32m     26\u001b[0m \u001b[1;33m\u001b[0m\u001b[0m\n\u001b[0;32m     27\u001b[0m     \u001b[0mcurrent_price\u001b[0m \u001b[1;33m=\u001b[0m \u001b[0mclose_prices\u001b[0m\u001b[1;33m[\u001b[0m\u001b[1;33m-\u001b[0m\u001b[1;36m1\u001b[0m\u001b[1;33m]\u001b[0m\u001b[1;33m\u001b[0m\u001b[1;33m\u001b[0m\u001b[0m\n\u001b[0;32m     28\u001b[0m \u001b[1;33m\u001b[0m\u001b[0m\n",
      "\u001b[1;32mc:\\Users\\Lex\\AppData\\Local\\Programs\\Python\\Python311\\Lib\\site-packages\\pandas\\core\\generic.py\u001b[0m in \u001b[0;36m?\u001b[1;34m(self, name)\u001b[0m\n\u001b[0;32m   5898\u001b[0m             \u001b[1;32mand\u001b[0m \u001b[0mname\u001b[0m \u001b[1;32mnot\u001b[0m \u001b[1;32min\u001b[0m \u001b[0mself\u001b[0m\u001b[1;33m.\u001b[0m\u001b[0m_accessors\u001b[0m\u001b[1;33m\u001b[0m\u001b[1;33m\u001b[0m\u001b[0m\n\u001b[0;32m   5899\u001b[0m             \u001b[1;32mand\u001b[0m \u001b[0mself\u001b[0m\u001b[1;33m.\u001b[0m\u001b[0m_info_axis\u001b[0m\u001b[1;33m.\u001b[0m\u001b[0m_can_hold_identifiers_and_holds_name\u001b[0m\u001b[1;33m(\u001b[0m\u001b[0mname\u001b[0m\u001b[1;33m)\u001b[0m\u001b[1;33m\u001b[0m\u001b[1;33m\u001b[0m\u001b[0m\n\u001b[0;32m   5900\u001b[0m         ):\n\u001b[0;32m   5901\u001b[0m             \u001b[1;32mreturn\u001b[0m \u001b[0mself\u001b[0m\u001b[1;33m[\u001b[0m\u001b[0mname\u001b[0m\u001b[1;33m]\u001b[0m\u001b[1;33m\u001b[0m\u001b[1;33m\u001b[0m\u001b[0m\n\u001b[1;32m-> 5902\u001b[1;33m         \u001b[1;32mreturn\u001b[0m \u001b[0mobject\u001b[0m\u001b[1;33m.\u001b[0m\u001b[0m__getattribute__\u001b[0m\u001b[1;33m(\u001b[0m\u001b[0mself\u001b[0m\u001b[1;33m,\u001b[0m \u001b[0mname\u001b[0m\u001b[1;33m)\u001b[0m\u001b[1;33m\u001b[0m\u001b[1;33m\u001b[0m\u001b[0m\n\u001b[0m",
      "\u001b[1;31mAttributeError\u001b[0m: 'DataFrame' object has no attribute 'close'"
     ]
    }
   ],
   "source": [
    "import MetaTrader5 as mt5\n",
    "import numpy as np\n",
    "\n",
    "def calculate_envelopes(prices, period, deviation):\n",
    "    sma = np.mean(prices[-period:])\n",
    "    std_dev = np.std(prices[-period:])\n",
    "    lower_envelope = sma - deviation * std_dev\n",
    "    upper_envelope = sma + deviation * std_dev\n",
    "    return lower_envelope, upper_envelope\n",
    "\n",
    "mt5.initialize()\n",
    "\n",
    "ii_shift = 0\n",
    "ii_period = 20\n",
    "id_deviation = 2\n",
    "gdt_Candle = None\n",
    "\n",
    "# Replace with the symbol you want to trade\n",
    "symbol = \"EURUSD\"\n",
    "lot_size = 0.01\n",
    "\n",
    "while True:\n",
    "    prices = mt5.copy_rates_from_pos(symbol, mt5.TIMEFRAME_M1, 0, ii_period)\n",
    "    pricesdf = pd.DataFrame(prices)\n",
    "    close_prices = [price for price in pricesdf.close]  # Corrected line\n",
    "    \n",
    "    current_price = close_prices[-1]\n",
    "\n",
    "    lower_envelope, upper_envelope = calculate_envelopes(close_prices, ii_period, id_deviation)\n",
    "\n",
    "    li_Factor = 1\n",
    "    if current_price < 0.01:\n",
    "        li_Factor = 10\n",
    "    \n",
    "    ld_takeprofitSell = current_price - 10 * 0.0001 * li_Factor\n",
    "    ld_stoplossSell = current_price + 10 * 0.0001 * li_Factor\n",
    "\n",
    "    if ld_stoplossSell < current_price + (0.0001 * mt5.symbol_info(symbol, mt5.MODE_STOPLEVEL)):\n",
    "        ld_stoplossSell = current_price + (0.0001 * mt5.symbol_info(symbol, mt5.MODE_STOPLEVEL))\n",
    "    \n",
    "    if close_prices[-2] < lower_envelope and close_prices[-3] > lower_envelope:\n",
    "        if gdt_Candle != mt5.time_current(0):\n",
    "            order = mt5.order_send(symbol, mt5.ORDER_SELL, lot_size, current_price, 10, ld_stoplossSell, ld_takeprofitSell)\n",
    "            if order.retcode != mt5.TRADE_RETCODE_DONE:\n",
    "                print(\"Order Not Generated\", order.comment)\n",
    "            gdt_Candle = mt5.time_current(0)\n",
    "    \n",
    "    ld_takeprofitBuy = current_price + 10 * 0.0001 * li_Factor\n",
    "    ld_stoplossBuy = current_price - 10 * 0.0001 * li_Factor\n",
    "\n",
    "    if ld_stoplossBuy > current_price - (0.0001 * mt5.market_info(symbol, mt5.MODE_STOPLEVEL)):\n",
    "        ld_stoplossBuy = current_price - (0.0001 * mt5.market_info(symbol, mt5.MODE_STOPLEVEL))\n",
    "    \n",
    "    if close_prices[-2] > upper_envelope and close_prices[-3] < upper_envelope:\n",
    "        if gdt_Candle != mt5.time_current(0):\n",
    "            order = mt5.order_send(symbol, mt5.ORDER_BUY, lot_size, current_price, 10, ld_stoplossBuy, ld_takeprofitBuy)\n",
    "            if order.retcode != mt5.TRADE_RETCODE_DONE:\n",
    "                print(\"Order Not Generated\", order.comment)\n",
    "            gdt_Candle = mt5.time_current(0)\n",
    "# Sleep for 1 second before the next iteration\n"
   ]
  },
  {
   "cell_type": "code",
   "execution_count": 60,
   "metadata": {},
   "outputs": [
    {
     "name": "stdout",
     "output_type": "stream",
     "text": [
      "Empty DataFrame\n",
      "Columns: []\n",
      "Index: []\n",
      "None\n"
     ]
    }
   ],
   "source": [
    "import pandas as pd\n",
    "prices = mt5.copy_rates_from_pos(\"EURGBP\", mt5.TIMEFRAME_M1, 0, 20)\n",
    "DF = pd.DataFrame(prices)\n",
    "print(DF)\n",
    "print (prices)\n",
    "# close_prices = [price.close for price in prices]"
   ]
  }
 ],
 "metadata": {
  "kernelspec": {
   "display_name": "Python 3",
   "language": "python",
   "name": "python3"
  },
  "language_info": {
   "codemirror_mode": {
    "name": "ipython",
    "version": 3
   },
   "file_extension": ".py",
   "mimetype": "text/x-python",
   "name": "python",
   "nbconvert_exporter": "python",
   "pygments_lexer": "ipython3",
   "version": "3.11.3"
  },
  "orig_nbformat": 4
 },
 "nbformat": 4,
 "nbformat_minor": 2
}
