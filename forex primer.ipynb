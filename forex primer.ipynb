{
 "cells": [
  {
   "cell_type": "code",
   "execution_count": 9,
   "metadata": {},
   "outputs": [],
   "source": [
    "from datetime import datetime\n",
    "import matplotlib.pyplot as plt\n",
    "import pandas as pd\n",
    "from pandas.plotting import register_matplotlib_converters\n",
    "register_matplotlib_converters()\n",
    "import MetaTrader5 as mt5"
   ]
  },
  {
   "cell_type": "code",
   "execution_count": 12,
   "metadata": {},
   "outputs": [],
   "source": [
    "if not mt5.initialize():\n",
    "    print(\"initialize() failed\")\n",
    "    mt5.shutdown()"
   ]
  },
  {
   "cell_type": "code",
   "execution_count": 13,
   "metadata": {},
   "outputs": [
    {
     "name": "stdout",
     "output_type": "stream",
     "text": [
      "AccountInfo(login=151066326, trade_mode=0, leverage=50, limit_orders=1024, margin_so_mode=0, trade_allowed=True, trade_expert=True, margin_mode=2, currency_digits=2, fifo_close=False, balance=65.0, credit=0.0, profit=0.0, equity=65.0, margin=0.0, margin_free=65.0, margin_level=0.0, margin_so_call=30.0, margin_so_so=0.0, margin_initial=0.0, margin_maintenance=0.0, assets=0.0, liabilities=0.0, commission_blocked=0.0, name='simulation', server='Tadenex-MT5Trial9', currency='USD', company='Tadenex Limited')\n"
     ]
    }
   ],
   "source": [
    "print(mt5.account_info())"
   ]
  },
  {
   "cell_type": "code",
   "execution_count": 14,
   "metadata": {},
   "outputs": [
    {
     "name": "stdout",
     "output_type": "stream",
     "text": [
      "(500, 4016, '9 Oct 2023')\n"
     ]
    }
   ],
   "source": [
    "print(mt5.version())"
   ]
  },
  {
   "cell_type": "code",
   "execution_count": 10,
   "metadata": {},
   "outputs": [],
   "source": [
    "euraud_ticks = mt5.copy_ticks_from(\"EURAUD\", datetime(2023,6,28,13), 1000, mt5.COPY_TICKS_ALL)"
   ]
  },
  {
   "cell_type": "code",
   "execution_count": 12,
   "metadata": {},
   "outputs": [
    {
     "name": "stdout",
     "output_type": "stream",
     "text": [
      "None\n"
     ]
    }
   ],
   "source": [
    "print(euraud_ticks)"
   ]
  },
  {
   "cell_type": "code",
   "execution_count": 13,
   "metadata": {},
   "outputs": [
    {
     "name": "stdout",
     "output_type": "stream",
     "text": [
      "MetaTrader5 package author:  MetaQuotes Ltd.\n",
      "MetaTrader5 package version:  5.0.45\n"
     ]
    }
   ],
   "source": [
    "print(\"MetaTrader5 package author: \",mt5.__author__)\n",
    "print(\"MetaTrader5 package version: \",mt5.__version__)"
   ]
  },
  {
   "cell_type": "code",
   "execution_count": 14,
   "metadata": {},
   "outputs": [
    {
     "name": "stdout",
     "output_type": "stream",
     "text": [
      "Total orders on GBPUSD: 0\n"
     ]
    }
   ],
   "source": [
    "orders=mt5.orders_get(symbol=\"GBPUSD\")\n",
    "if orders is None:\n",
    "    print(\"No orders on GBPUSD, error code={}\".format(mt5.last_error()))\n",
    "else:\n",
    "    print(\"Total orders on GBPUSD:\",len(orders))\n",
    "    # display all active orders\n",
    "    for order in orders:\n",
    "        print(order)"
   ]
  },
  {
   "cell_type": "code",
   "execution_count": 15,
   "metadata": {},
   "outputs": [
    {
     "name": "stdout",
     "output_type": "stream",
     "text": [
      "AccountInfo(login=72629084, trade_mode=0, leverage=100, limit_orders=200, margin_so_mode=0, trade_allowed=False, trade_expert=True, margin_mode=2, currency_digits=2, fifo_close=False, balance=9984.41, credit=0.0, profit=0.0, equity=9984.41, margin=0.0, margin_free=9984.41, margin_level=0.0, margin_so_call=50.0, margin_so_so=30.0, margin_initial=0.0, margin_maintenance=0.0, assets=0.0, liabilities=0.0, commission_blocked=0.0, name='MetaTrader 5 Desktop Demo', server='MetaQuotes-Demo', currency='USD', company='MetaQuotes Software Corp.')\n"
     ]
    }
   ],
   "source": [
    "print(mt5.account_info())"
   ]
  },
  {
   "cell_type": "code",
   "execution_count": 16,
   "metadata": {},
   "outputs": [
    {
     "name": "stdout",
     "output_type": "stream",
     "text": [
      "  login=72629084\n",
      "  trade_mode=0\n",
      "  leverage=100\n",
      "  limit_orders=200\n",
      "  margin_so_mode=0\n",
      "  trade_allowed=False\n",
      "  trade_expert=True\n",
      "  margin_mode=2\n",
      "  currency_digits=2\n",
      "  fifo_close=False\n",
      "  balance=9984.41\n",
      "  credit=0.0\n",
      "  profit=0.0\n",
      "  equity=9984.41\n",
      "  margin=0.0\n",
      "  margin_free=9984.41\n",
      "  margin_level=0.0\n",
      "  margin_so_call=50.0\n",
      "  margin_so_so=30.0\n",
      "  margin_initial=0.0\n",
      "  margin_maintenance=0.0\n",
      "  assets=0.0\n",
      "  liabilities=0.0\n",
      "  commission_blocked=0.0\n",
      "  name=MetaTrader 5 Desktop Demo\n",
      "  server=MetaQuotes-Demo\n",
      "  currency=USD\n",
      "  company=MetaQuotes Software Corp.\n"
     ]
    }
   ],
   "source": [
    "account_info_dict = mt5.account_info()._asdict()\n",
    "for prop in account_info_dict:\n",
    "        print(\"  {}={}\".format(prop, account_info_dict[prop]))"
   ]
  },
  {
   "cell_type": "code",
   "execution_count": 17,
   "metadata": {},
   "outputs": [
    {
     "data": {
      "text/plain": [
       "(1, 'Success')"
      ]
     },
     "execution_count": 17,
     "metadata": {},
     "output_type": "execute_result"
    }
   ],
   "source": [
    "mt5.last_error()"
   ]
  },
  {
   "cell_type": "code",
   "execution_count": 1,
   "metadata": {},
   "outputs": [
    {
     "ename": "NameError",
     "evalue": "name 'mt5' is not defined",
     "output_type": "error",
     "traceback": [
      "\u001b[1;31m---------------------------------------------------------------------------\u001b[0m",
      "\u001b[1;31mNameError\u001b[0m                                 Traceback (most recent call last)",
      "\u001b[1;32mg:\\Forex dev\\forex primer.ipynb Cell 12\u001b[0m line \u001b[0;36m1\n\u001b[1;32m----> <a href='vscode-notebook-cell:/g%3A/Forex%20dev/forex%20primer.ipynb#X14sZmlsZQ%3D%3D?line=0'>1</a>\u001b[0m mt5\u001b[39m.\u001b[39mterminal_info()\n",
      "\u001b[1;31mNameError\u001b[0m: name 'mt5' is not defined"
     ]
    }
   ],
   "source": [
    "mt5.terminal_info()"
   ]
  },
  {
   "cell_type": "code",
   "execution_count": null,
   "metadata": {},
   "outputs": [
    {
     "name": "stdout",
     "output_type": "stream",
     "text": [
      "Total symbols:  139\n"
     ]
    }
   ],
   "source": [
    "symbols = mt5.symbols_total()\n",
    "if symbols > 0:\n",
    "    print('Total symbols: ', symbols)"
   ]
  },
  {
   "cell_type": "code",
   "execution_count": null,
   "metadata": {},
   "outputs": [
    {
     "name": "stdout",
     "output_type": "stream",
     "text": [
      "(SymbolInfo(custom=False, chart_mode=0, select=False, visible=False, session_deals=0, session_buy_orders=0, session_sell_orders=0, volume=0, volumehigh=0, volumelow=0, time=0, digits=5, spread=0, spread_float=True, ticks_bookdepth=10, trade_calc_mode=0, trade_mode=4, start_time=0, expiration_time=0, trade_stops_level=0, trade_freeze_level=0, trade_exemode=1, swap_mode=1, swap_rollover3days=3, margin_hedged_use_leg=False, expiration_mode=15, filling_mode=3, order_mode=127, order_gtc_mode=0, option_mode=0, option_right=0, bid=0.0, bidhigh=0.0, bidlow=0.0, ask=0.0, askhigh=0.0, asklow=0.0, last=0.0, lasthigh=0.0, lastlow=0.0, volume_real=0.0, volumehigh_real=0.0, volumelow_real=0.0, option_strike=0.0, point=1e-05, trade_tick_value=0.6451500000000001, trade_tick_value_profit=0.6451500000000001, trade_tick_value_loss=0.6451600000000001, trade_tick_size=1e-05, trade_contract_size=100000.0, trade_accrued_interest=0.0, trade_face_value=0.0, trade_liquidity_rate=0.0, volume_min=0.01, volume_max=35.0, volume_step=0.01, volume_limit=0.0, swap_long=-20.9, swap_short=7.2, margin_initial=0.0, margin_maintenance=0.0, session_volume=0.0, session_turnover=0.0, session_interest=0.0, session_buy_orders_volume=0.0, session_sell_orders_volume=0.0, session_open=0.0, session_close=0.0, session_aw=0.0, session_price_settlement=0.0, session_price_limit_min=0.0, session_price_limit_max=0.0, margin_hedged=100000.0, price_change=0.0, price_volatility=0.0, price_theoretical=0.0, price_greeks_delta=0.0, price_greeks_theta=0.0, price_greeks_gamma=0.0, price_greeks_vega=0.0, price_greeks_rho=0.0, price_greeks_omega=0.0, price_sensitivity=0.0, basis='', category='', currency_base='GBP', currency_profit='AUD', currency_margin='GBP', bank='', description='Pound Sterling vs Australian Dollar', exchange='', formula='', isin='', name='GBPAUD', page='https://www.mql5.com/en/quotes/currencies/gbpaud', path='Forex\\\\GBPAUD'), SymbolInfo(custom=False, chart_mode=0, select=False, visible=False, session_deals=0, session_buy_orders=0, session_sell_orders=0, volume=0, volumehigh=0, volumelow=0, time=0, digits=5, spread=0, spread_float=True, ticks_bookdepth=10, trade_calc_mode=0, trade_mode=4, start_time=0, expiration_time=0, trade_stops_level=0, trade_freeze_level=0, trade_exemode=1, swap_mode=1, swap_rollover3days=3, margin_hedged_use_leg=False, expiration_mode=15, filling_mode=3, order_mode=127, order_gtc_mode=0, option_mode=0, option_right=0, bid=0.0, bidhigh=0.0, bidlow=0.0, ask=0.0, askhigh=0.0, asklow=0.0, last=0.0, lasthigh=0.0, lastlow=0.0, volume_real=0.0, volumehigh_real=0.0, volumelow_real=0.0, option_strike=0.0, point=1e-05, trade_tick_value=0.740269161867255, trade_tick_value_profit=0.740269161867255, trade_tick_value_loss=0.7402910824536207, trade_tick_size=1e-05, trade_contract_size=100000.0, trade_accrued_interest=0.0, trade_face_value=0.0, trade_liquidity_rate=0.0, volume_min=0.01, volume_max=35.0, volume_step=0.01, volume_limit=0.0, swap_long=-6.6, swap_short=1.8, margin_initial=0.0, margin_maintenance=0.0, session_volume=0.0, session_turnover=0.0, session_interest=0.0, session_buy_orders_volume=0.0, session_sell_orders_volume=0.0, session_open=0.0, session_close=0.0, session_aw=0.0, session_price_settlement=0.0, session_price_limit_min=0.0, session_price_limit_max=0.0, margin_hedged=100000.0, price_change=0.0, price_volatility=0.0, price_theoretical=0.0, price_greeks_delta=0.0, price_greeks_theta=0.0, price_greeks_gamma=0.0, price_greeks_vega=0.0, price_greeks_rho=0.0, price_greeks_omega=0.0, price_sensitivity=0.0, basis='', category='', currency_base='GBP', currency_profit='CAD', currency_margin='GBP', bank='', description='Pound Sterling vs Canadian Dollar', exchange='', formula='', isin='', name='GBPCAD', page='https://www.mql5.com/en/quotes/currencies/gbpcad', path='Forex\\\\GBPCAD'), SymbolInfo(custom=False, chart_mode=0, select=False, visible=False, session_deals=0, session_buy_orders=0, session_sell_orders=0, volume=0, volumehigh=0, volumelow=0, time=0, digits=5, spread=0, spread_float=True, ticks_bookdepth=10, trade_calc_mode=0, trade_mode=4, start_time=0, expiration_time=0, trade_stops_level=0, trade_freeze_level=0, trade_exemode=1, swap_mode=1, swap_rollover3days=3, margin_hedged_use_leg=False, expiration_mode=7, filling_mode=1, order_mode=127, order_gtc_mode=0, option_mode=0, option_right=0, bid=0.0, bidhigh=0.0, bidlow=0.0, ask=0.0, askhigh=0.0, asklow=0.0, last=0.0, lasthigh=0.0, lastlow=0.0, volume_real=0.0, volumehigh_real=0.0, volumelow_real=0.0, option_strike=0.0, point=1e-05, trade_tick_value=1.137772923279972, trade_tick_value_profit=1.137772923279972, trade_tick_value_loss=1.1378506002161917, trade_tick_size=1e-05, trade_contract_size=100000.0, trade_accrued_interest=0.0, trade_face_value=0.0, trade_liquidity_rate=0.0, volume_min=0.01, volume_max=500.0, volume_step=0.01, volume_limit=0.0, swap_long=0.8, swap_short=-3.1, margin_initial=0.0, margin_maintenance=0.0, session_volume=0.0, session_turnover=0.0, session_interest=0.0, session_buy_orders_volume=0.0, session_sell_orders_volume=0.0, session_open=0.0, session_close=0.0, session_aw=0.0, session_price_settlement=0.0, session_price_limit_min=0.0, session_price_limit_max=0.0, margin_hedged=100000.0, price_change=0.0, price_volatility=0.0, price_theoretical=0.0, price_greeks_delta=0.0, price_greeks_theta=0.0, price_greeks_gamma=0.0, price_greeks_vega=0.0, price_greeks_rho=0.0, price_greeks_omega=0.0, price_sensitivity=0.0, basis='', category='', currency_base='GBP', currency_profit='CHF', currency_margin='GBP', bank='', description='Pound Sterling vs Swiss Franc', exchange='', formula='', isin='', name='GBPCHF', page='https://www.mql5.com/en/quotes/currencies/gbpchf', path='Forex\\\\GBPCHF'), SymbolInfo(custom=False, chart_mode=0, select=False, visible=False, session_deals=0, session_buy_orders=0, session_sell_orders=0, volume=0, volumehigh=0, volumelow=0, time=0, digits=5, spread=0, spread_float=True, ticks_bookdepth=0, trade_calc_mode=0, trade_mode=4, start_time=0, expiration_time=0, trade_stops_level=0, trade_freeze_level=0, trade_exemode=1, swap_mode=1, swap_rollover3days=3, margin_hedged_use_leg=False, expiration_mode=3, filling_mode=3, order_mode=127, order_gtc_mode=0, option_mode=0, option_right=0, bid=0.0, bidhigh=0.0, bidlow=0.0, ask=0.0, askhigh=0.0, asklow=0.0, last=0.0, lasthigh=0.0, lastlow=0.0, volume_real=0.0, volumehigh_real=0.0, volumelow_real=0.0, option_strike=0.0, point=1e-05, trade_tick_value=0.0, trade_tick_value_profit=0.0, trade_tick_value_loss=0.0, trade_tick_size=1e-05, trade_contract_size=100000.0, trade_accrued_interest=0.0, trade_face_value=0.0, trade_liquidity_rate=0.0, volume_min=0.01, volume_max=100000.0, volume_step=0.01, volume_limit=0.0, swap_long=-222.533, swap_short=20.8, margin_initial=0.0, margin_maintenance=0.0, session_volume=0.0, session_turnover=0.0, session_interest=0.0, session_buy_orders_volume=0.0, session_sell_orders_volume=0.0, session_open=0.0, session_close=0.0, session_aw=0.0, session_price_settlement=0.0, session_price_limit_min=0.0, session_price_limit_max=0.0, margin_hedged=100000.0, price_change=0.0, price_volatility=0.0, price_theoretical=0.0, price_greeks_delta=0.0, price_greeks_theta=0.0, price_greeks_gamma=0.0, price_greeks_vega=0.0, price_greeks_rho=0.0, price_greeks_omega=0.0, price_sensitivity=0.0, basis='', category='', currency_base='GBP', currency_profit='CZK', currency_margin='GBP', bank='', description='Great Britan Pound vs Czech Krone', exchange='', formula='', isin='', name='GBPCZK', page='', path='Forex\\\\GBPCZK'), SymbolInfo(custom=False, chart_mode=0, select=False, visible=False, session_deals=0, session_buy_orders=0, session_sell_orders=0, volume=0, volumehigh=0, volumelow=0, time=0, digits=5, spread=0, spread_float=True, ticks_bookdepth=0, trade_calc_mode=0, trade_mode=4, start_time=0, expiration_time=0, trade_stops_level=0, trade_freeze_level=0, trade_exemode=1, swap_mode=1, swap_rollover3days=3, margin_hedged_use_leg=False, expiration_mode=3, filling_mode=3, order_mode=127, order_gtc_mode=0, option_mode=0, option_right=0, bid=0.0, bidhigh=0.0, bidlow=0.0, ask=0.0, askhigh=0.0, asklow=0.0, last=0.0, lasthigh=0.0, lastlow=0.0, volume_real=0.0, volumehigh_real=0.0, volumelow_real=0.0, option_strike=0.0, point=1e-05, trade_tick_value=0.0, trade_tick_value_profit=0.0, trade_tick_value_loss=0.0, trade_tick_size=1e-05, trade_contract_size=100000.0, trade_accrued_interest=0.0, trade_face_value=0.0, trade_liquidity_rate=0.0, volume_min=0.01, volume_max=100000.0, volume_step=0.01, volume_limit=0.0, swap_long=7.07, swap_short=-76.83, margin_initial=0.0, margin_maintenance=0.0, session_volume=0.0, session_turnover=0.0, session_interest=0.0, session_buy_orders_volume=0.0, session_sell_orders_volume=0.0, session_open=0.0, session_close=0.0, session_aw=0.0, session_price_settlement=0.0, session_price_limit_min=0.0, session_price_limit_max=0.0, margin_hedged=100000.0, price_change=0.0, price_volatility=0.0, price_theoretical=0.0, price_greeks_delta=0.0, price_greeks_theta=0.0, price_greeks_gamma=0.0, price_greeks_vega=0.0, price_greeks_rho=0.0, price_greeks_omega=0.0, price_sensitivity=0.0, basis='', category='', currency_base='GBP', currency_profit='DKK', currency_margin='GBP', bank='', description='Great Britan Pound vs Danish Krone', exchange='', formula='', isin='', name='GBPDKK', page='', path='Forex\\\\GBPDKK'), SymbolInfo(custom=False, chart_mode=0, select=False, visible=False, session_deals=0, session_buy_orders=0, session_sell_orders=0, volume=0, volumehigh=0, volumelow=0, time=0, digits=5, spread=0, spread_float=True, ticks_bookdepth=0, trade_calc_mode=0, trade_mode=0, start_time=0, expiration_time=0, trade_stops_level=0, trade_freeze_level=0, trade_exemode=2, swap_mode=1, swap_rollover3days=3, margin_hedged_use_leg=False, expiration_mode=15, filling_mode=3, order_mode=127, order_gtc_mode=0, option_mode=0, option_right=0, bid=0.0, bidhigh=0.0, bidlow=0.0, ask=0.0, askhigh=0.0, asklow=0.0, last=0.0, lasthigh=0.0, lastlow=0.0, volume_real=0.0, volumehigh_real=0.0, volumelow_real=0.0, option_strike=0.0, point=1e-05, trade_tick_value=0.0, trade_tick_value_profit=0.0, trade_tick_value_loss=0.0, trade_tick_size=1e-05, trade_contract_size=100000.0, trade_accrued_interest=0.0, trade_face_value=0.0, trade_liquidity_rate=0.0, volume_min=0.01, volume_max=100.0, volume_step=0.01, volume_limit=0.0, swap_long=-0.5147, swap_short=-4.4528, margin_initial=0.0, margin_maintenance=0.0, session_volume=0.0, session_turnover=0.0, session_interest=0.0, session_buy_orders_volume=0.0, session_sell_orders_volume=0.0, session_open=0.0, session_close=0.0, session_aw=0.0, session_price_settlement=0.0, session_price_limit_min=0.0, session_price_limit_max=0.0, margin_hedged=0.0, price_change=0.0, price_volatility=0.0, price_theoretical=0.0, price_greeks_delta=0.0, price_greeks_theta=0.0, price_greeks_gamma=0.0, price_greeks_vega=0.0, price_greeks_rho=0.0, price_greeks_omega=0.0, price_sensitivity=0.0, basis='', category='', currency_base='GBP', currency_profit='HKD', currency_margin='GBP', bank='', description='Great Britain Pound vs Hong Kong Dollar', exchange='', formula='', isin='', name='GBPHKD', page='', path='Forex\\\\GBPHKD'), SymbolInfo(custom=False, chart_mode=0, select=False, visible=False, session_deals=0, session_buy_orders=0, session_sell_orders=0, volume=0, volumehigh=0, volumelow=0, time=0, digits=3, spread=0, spread_float=True, ticks_bookdepth=0, trade_calc_mode=0, trade_mode=4, start_time=0, expiration_time=0, trade_stops_level=0, trade_freeze_level=0, trade_exemode=1, swap_mode=1, swap_rollover3days=3, margin_hedged_use_leg=False, expiration_mode=3, filling_mode=3, order_mode=127, order_gtc_mode=0, option_mode=0, option_right=0, bid=0.0, bidhigh=0.0, bidlow=0.0, ask=0.0, askhigh=0.0, asklow=0.0, last=0.0, lasthigh=0.0, lastlow=0.0, volume_real=0.0, volumehigh_real=0.0, volumelow_real=0.0, option_strike=0.0, point=0.001, trade_tick_value=0.0, trade_tick_value_profit=0.0, trade_tick_value_loss=0.0, trade_tick_size=0.001, trade_contract_size=100000.0, trade_accrued_interest=0.0, trade_face_value=0.0, trade_liquidity_rate=0.0, volume_min=0.01, volume_max=100000.0, volume_step=0.01, volume_limit=0.0, swap_long=-6.76, swap_short=-25.74, margin_initial=0.0, margin_maintenance=0.0, session_volume=0.0, session_turnover=0.0, session_interest=0.0, session_buy_orders_volume=0.0, session_sell_orders_volume=0.0, session_open=0.0, session_close=0.0, session_aw=0.0, session_price_settlement=0.0, session_price_limit_min=0.0, session_price_limit_max=0.0, margin_hedged=100000.0, price_change=0.0, price_volatility=0.0, price_theoretical=0.0, price_greeks_delta=0.0, price_greeks_theta=0.0, price_greeks_gamma=0.0, price_greeks_vega=0.0, price_greeks_rho=0.0, price_greeks_omega=0.0, price_sensitivity=0.0, basis='', category='', currency_base='GBP', currency_profit='HUF', currency_margin='GBP', bank='', description='Great Britan Pound vs Hungarian Forint', exchange='', formula='', isin='', name='GBPHUF', page='', path='Forex\\\\GBPHUF'), SymbolInfo(custom=False, chart_mode=0, select=False, visible=False, session_deals=0, session_buy_orders=0, session_sell_orders=0, volume=0, volumehigh=0, volumelow=0, time=0, digits=3, spread=0, spread_float=True, ticks_bookdepth=10, trade_calc_mode=0, trade_mode=4, start_time=0, expiration_time=0, trade_stops_level=0, trade_freeze_level=0, trade_exemode=1, swap_mode=1, swap_rollover3days=3, margin_hedged_use_leg=False, expiration_mode=7, filling_mode=3, order_mode=127, order_gtc_mode=0, option_mode=0, option_right=0, bid=0.0, bidhigh=0.0, bidlow=0.0, ask=0.0, askhigh=0.0, asklow=0.0, last=0.0, lasthigh=0.0, lastlow=0.0, volume_real=0.0, volumehigh_real=0.0, volumelow_real=0.0, option_strike=0.0, point=0.001, trade_tick_value=0.6859886811867605, trade_tick_value_profit=0.6859886811867605, trade_tick_value_loss=0.6859886811867605, trade_tick_size=0.001, trade_contract_size=100000.0, trade_accrued_interest=0.0, trade_face_value=0.0, trade_liquidity_rate=0.0, volume_min=0.01, volume_max=500.0, volume_step=0.01, volume_limit=0.0, swap_long=0.3, swap_short=-2.2, margin_initial=0.0, margin_maintenance=0.0, session_volume=0.0, session_turnover=0.0, session_interest=0.0, session_buy_orders_volume=0.0, session_sell_orders_volume=0.0, session_open=0.0, session_close=0.0, session_aw=0.0, session_price_settlement=0.0, session_price_limit_min=0.0, session_price_limit_max=0.0, margin_hedged=100000.0, price_change=0.0, price_volatility=0.0, price_theoretical=0.0, price_greeks_delta=0.0, price_greeks_theta=0.0, price_greeks_gamma=0.0, price_greeks_vega=0.0, price_greeks_rho=0.0, price_greeks_omega=0.0, price_sensitivity=0.0, basis='', category='', currency_base='GBP', currency_profit='JPY', currency_margin='GBP', bank='', description='Pound Sterling vs Yen', exchange='', formula='', isin='', name='GBPJPY', page='https://www.mql5.com/en/quotes/currencies/gbpjpy', path='Forex\\\\GBPJPY'), SymbolInfo(custom=False, chart_mode=0, select=False, visible=False, session_deals=0, session_buy_orders=0, session_sell_orders=0, volume=0, volumehigh=0, volumelow=0, time=0, digits=5, spread=0, spread_float=True, ticks_bookdepth=0, trade_calc_mode=0, trade_mode=4, start_time=0, expiration_time=0, trade_stops_level=0, trade_freeze_level=0, trade_exemode=1, swap_mode=1, swap_rollover3days=3, margin_hedged_use_leg=False, expiration_mode=3, filling_mode=3, order_mode=127, order_gtc_mode=0, option_mode=0, option_right=0, bid=0.0, bidhigh=0.0, bidlow=0.0, ask=0.0, askhigh=0.0, asklow=0.0, last=0.0, lasthigh=0.0, lastlow=0.0, volume_real=0.0, volumehigh_real=0.0, volumelow_real=0.0, option_strike=0.0, point=1e-05, trade_tick_value=0.0, trade_tick_value_profit=0.0, trade_tick_value_loss=0.0, trade_tick_size=1e-05, trade_contract_size=100000.0, trade_accrued_interest=0.0, trade_face_value=0.0, trade_liquidity_rate=0.0, volume_min=0.01, volume_max=100000.0, volume_step=0.01, volume_limit=0.0, swap_long=-562.25, swap_short=288.8, margin_initial=0.0, margin_maintenance=0.0, session_volume=0.0, session_turnover=0.0, session_interest=0.0, session_buy_orders_volume=0.0, session_sell_orders_volume=0.0, session_open=0.0, session_close=0.0, session_aw=0.0, session_price_settlement=0.0, session_price_limit_min=0.0, session_price_limit_max=0.0, margin_hedged=100000.0, price_change=0.0, price_volatility=0.0, price_theoretical=0.0, price_greeks_delta=0.0, price_greeks_theta=0.0, price_greeks_gamma=0.0, price_greeks_vega=0.0, price_greeks_rho=0.0, price_greeks_omega=0.0, price_sensitivity=0.0, basis='', category='', currency_base='GBP', currency_profit='MXN', currency_margin='GBP', bank='', description='Great Britan Pound vs Mexican Peso', exchange='', formula='', isin='', name='GBPMXN', page='', path='Forex\\\\GBPMXN'), SymbolInfo(custom=False, chart_mode=0, select=False, visible=False, session_deals=0, session_buy_orders=0, session_sell_orders=0, volume=0, volumehigh=0, volumelow=0, time=0, digits=5, spread=0, spread_float=True, ticks_bookdepth=32, trade_calc_mode=0, trade_mode=4, start_time=0, expiration_time=0, trade_stops_level=0, trade_freeze_level=0, trade_exemode=1, swap_mode=0, swap_rollover3days=3, margin_hedged_use_leg=False, expiration_mode=7, filling_mode=3, order_mode=127, order_gtc_mode=0, option_mode=0, option_right=0, bid=0.0, bidhigh=0.0, bidlow=0.0, ask=0.0, askhigh=0.0, asklow=0.0, last=0.0, lasthigh=0.0, lastlow=0.0, volume_real=0.0, volumehigh_real=0.0, volumelow_real=0.0, option_strike=0.0, point=1e-05, trade_tick_value=0.0, trade_tick_value_profit=0.0, trade_tick_value_loss=0.0, trade_tick_size=1e-05, trade_contract_size=100000.0, trade_accrued_interest=0.0, trade_face_value=0.0, trade_liquidity_rate=0.0, volume_min=0.01, volume_max=1000.0, volume_step=0.01, volume_limit=0.0, swap_long=0.0, swap_short=0.0, margin_initial=0.0, margin_maintenance=0.0, session_volume=0.0, session_turnover=0.0, session_interest=0.0, session_buy_orders_volume=0.0, session_sell_orders_volume=0.0, session_open=0.0, session_close=0.0, session_aw=0.0, session_price_settlement=0.0, session_price_limit_min=0.0, session_price_limit_max=0.0, margin_hedged=100000.0, price_change=0.0, price_volatility=0.0, price_theoretical=0.0, price_greeks_delta=0.0, price_greeks_theta=0.0, price_greeks_gamma=0.0, price_greeks_vega=0.0, price_greeks_rho=0.0, price_greeks_omega=0.0, price_sensitivity=0.0, basis='', category='', currency_base='GBP', currency_profit='NOK', currency_margin='GBP', bank='', description='Pound Sterling vs Norwegian Krone', exchange='', formula='', isin='', name='GBPNOK', page='https://www.mql5.com/en/quotes/currencies/gbpnok', path='Forex\\\\GBPNOK'), SymbolInfo(custom=False, chart_mode=0, select=False, visible=False, session_deals=0, session_buy_orders=0, session_sell_orders=0, volume=0, volumehigh=0, volumelow=0, time=0, digits=5, spread=0, spread_float=True, ticks_bookdepth=10, trade_calc_mode=0, trade_mode=4, start_time=0, expiration_time=0, trade_stops_level=0, trade_freeze_level=0, trade_exemode=1, swap_mode=1, swap_rollover3days=3, margin_hedged_use_leg=False, expiration_mode=15, filling_mode=3, order_mode=127, order_gtc_mode=0, option_mode=0, option_right=0, bid=0.0, bidhigh=0.0, bidlow=0.0, ask=0.0, askhigh=0.0, asklow=0.0, last=0.0, lasthigh=0.0, lastlow=0.0, volume_real=0.0, volumehigh_real=0.0, volumelow_real=0.0, option_strike=0.0, point=1e-05, trade_tick_value=0.5954900000000001, trade_tick_value_profit=0.5954900000000001, trade_tick_value_loss=0.5955500000000001, trade_tick_size=1e-05, trade_contract_size=100000.0, trade_accrued_interest=0.0, trade_face_value=0.0, trade_liquidity_rate=0.0, volume_min=0.01, volume_max=35.0, volume_step=0.01, volume_limit=0.0, swap_long=-17.0, swap_short=5.4, margin_initial=0.0, margin_maintenance=0.0, session_volume=0.0, session_turnover=0.0, session_interest=0.0, session_buy_orders_volume=0.0, session_sell_orders_volume=0.0, session_open=0.0, session_close=0.0, session_aw=0.0, session_price_settlement=0.0, session_price_limit_min=0.0, session_price_limit_max=0.0, margin_hedged=100000.0, price_change=0.0, price_volatility=0.0, price_theoretical=0.0, price_greeks_delta=0.0, price_greeks_theta=0.0, price_greeks_gamma=0.0, price_greeks_vega=0.0, price_greeks_rho=0.0, price_greeks_omega=0.0, price_sensitivity=0.0, basis='', category='', currency_base='GBP', currency_profit='NZD', currency_margin='GBP', bank='', description='Pound Sterling vs New Zealand Dollar', exchange='', formula='', isin='', name='GBPNZD', page='https://www.mql5.com/en/quotes/currencies/gbpnzd', path='Forex\\\\GBPNZD'), SymbolInfo(custom=False, chart_mode=0, select=False, visible=False, session_deals=0, session_buy_orders=0, session_sell_orders=0, volume=0, volumehigh=0, volumelow=0, time=0, digits=5, spread=0, spread_float=True, ticks_bookdepth=32, trade_calc_mode=0, trade_mode=4, start_time=0, expiration_time=0, trade_stops_level=0, trade_freeze_level=0, trade_exemode=1, swap_mode=0, swap_rollover3days=3, margin_hedged_use_leg=False, expiration_mode=7, filling_mode=3, order_mode=127, order_gtc_mode=0, option_mode=0, option_right=0, bid=0.0, bidhigh=0.0, bidlow=0.0, ask=0.0, askhigh=0.0, asklow=0.0, last=0.0, lasthigh=0.0, lastlow=0.0, volume_real=0.0, volumehigh_real=0.0, volumelow_real=0.0, option_strike=0.0, point=1e-05, trade_tick_value=0.0, trade_tick_value_profit=0.0, trade_tick_value_loss=0.0, trade_tick_size=1e-05, trade_contract_size=100000.0, trade_accrued_interest=0.0, trade_face_value=0.0, trade_liquidity_rate=0.0, volume_min=0.01, volume_max=1000.0, volume_step=0.01, volume_limit=0.0, swap_long=0.0, swap_short=0.0, margin_initial=0.0, margin_maintenance=0.0, session_volume=0.0, session_turnover=0.0, session_interest=0.0, session_buy_orders_volume=0.0, session_sell_orders_volume=0.0, session_open=0.0, session_close=0.0, session_aw=0.0, session_price_settlement=0.0, session_price_limit_min=0.0, session_price_limit_max=0.0, margin_hedged=100000.0, price_change=0.0, price_volatility=0.0, price_theoretical=0.0, price_greeks_delta=0.0, price_greeks_theta=0.0, price_greeks_gamma=0.0, price_greeks_vega=0.0, price_greeks_rho=0.0, price_greeks_omega=0.0, price_sensitivity=0.0, basis='', category='', currency_base='GBP', currency_profit='PLN', currency_margin='GBP', bank='', description='Pound Sterling vs Zloty', exchange='', formula='', isin='', name='GBPPLN', page='https://www.mql5.com/en/quotes/currencies/gbppln', path='Forex\\\\GBPPLN'), SymbolInfo(custom=False, chart_mode=0, select=False, visible=False, session_deals=0, session_buy_orders=0, session_sell_orders=0, volume=0, volumehigh=0, volumelow=0, time=0, digits=5, spread=0, spread_float=True, ticks_bookdepth=32, trade_calc_mode=0, trade_mode=4, start_time=0, expiration_time=0, trade_stops_level=0, trade_freeze_level=0, trade_exemode=1, swap_mode=0, swap_rollover3days=3, margin_hedged_use_leg=False, expiration_mode=7, filling_mode=3, order_mode=127, order_gtc_mode=0, option_mode=0, option_right=0, bid=0.0, bidhigh=0.0, bidlow=0.0, ask=0.0, askhigh=0.0, asklow=0.0, last=0.0, lasthigh=0.0, lastlow=0.0, volume_real=0.0, volumehigh_real=0.0, volumelow_real=0.0, option_strike=0.0, point=1e-05, trade_tick_value=0.09200732378297312, trade_tick_value_profit=0.09200732378297312, trade_tick_value_loss=0.09201587457868232, trade_tick_size=1e-05, trade_contract_size=100000.0, trade_accrued_interest=0.0, trade_face_value=0.0, trade_liquidity_rate=0.0, volume_min=0.01, volume_max=1000.0, volume_step=0.01, volume_limit=0.0, swap_long=0.0, swap_short=0.0, margin_initial=0.0, margin_maintenance=0.0, session_volume=0.0, session_turnover=0.0, session_interest=0.0, session_buy_orders_volume=0.0, session_sell_orders_volume=0.0, session_open=0.0, session_close=0.0, session_aw=0.0, session_price_settlement=0.0, session_price_limit_min=0.0, session_price_limit_max=0.0, margin_hedged=100000.0, price_change=0.0, price_volatility=0.0, price_theoretical=0.0, price_greeks_delta=0.0, price_greeks_theta=0.0, price_greeks_gamma=0.0, price_greeks_vega=0.0, price_greeks_rho=0.0, price_greeks_omega=0.0, price_sensitivity=0.0, basis='', category='', currency_base='GBP', currency_profit='SEK', currency_margin='GBP', bank='', description='Pound Sterling vs Swedish Krona', exchange='', formula='', isin='', name='GBPSEK', page='https://www.mql5.com/en/quotes/currencies/gbpsek', path='Forex\\\\GBPSEK'), SymbolInfo(custom=False, chart_mode=0, select=False, visible=False, session_deals=0, session_buy_orders=0, session_sell_orders=0, volume=0, volumehigh=0, volumelow=0, time=0, digits=5, spread=0, spread_float=True, ticks_bookdepth=16, trade_calc_mode=0, trade_mode=4, start_time=0, expiration_time=0, trade_stops_level=0, trade_freeze_level=0, trade_exemode=1, swap_mode=0, swap_rollover3days=3, margin_hedged_use_leg=False, expiration_mode=7, filling_mode=3, order_mode=127, order_gtc_mode=0, option_mode=0, option_right=0, bid=0.0, bidhigh=0.0, bidlow=0.0, ask=0.0, askhigh=0.0, asklow=0.0, last=0.0, lasthigh=0.0, lastlow=0.0, volume_real=0.0, volumehigh_real=0.0, volumelow_real=0.0, option_strike=0.0, point=1e-05, trade_tick_value=0.0, trade_tick_value_profit=0.0, trade_tick_value_loss=0.0, trade_tick_size=1e-05, trade_contract_size=100000.0, trade_accrued_interest=0.0, trade_face_value=0.0, trade_liquidity_rate=0.0, volume_min=0.01, volume_max=1000.0, volume_step=0.01, volume_limit=0.0, swap_long=0.0, swap_short=0.0, margin_initial=0.0, margin_maintenance=0.0, session_volume=0.0, session_turnover=0.0, session_interest=0.0, session_buy_orders_volume=0.0, session_sell_orders_volume=0.0, session_open=0.0, session_close=0.0, session_aw=0.0, session_price_settlement=0.0, session_price_limit_min=0.0, session_price_limit_max=0.0, margin_hedged=100000.0, price_change=0.0, price_volatility=0.0, price_theoretical=0.0, price_greeks_delta=0.0, price_greeks_theta=0.0, price_greeks_gamma=0.0, price_greeks_vega=0.0, price_greeks_rho=0.0, price_greeks_omega=0.0, price_sensitivity=0.0, basis='', category='', currency_base='GBP', currency_profit='SGD', currency_margin='GBP', bank='', description='Pound Sterling vs Singapore Dollar', exchange='', formula='', isin='', name='GBPSGD', page='https://www.mql5.com/en/quotes/currencies/gbpsgd', path='Forex\\\\GBPSGD'), SymbolInfo(custom=False, chart_mode=0, select=False, visible=False, session_deals=0, session_buy_orders=0, session_sell_orders=0, volume=0, volumehigh=0, volumelow=0, time=0, digits=5, spread=0, spread_float=True, ticks_bookdepth=0, trade_calc_mode=0, trade_mode=4, start_time=0, expiration_time=0, trade_stops_level=0, trade_freeze_level=0, trade_exemode=1, swap_mode=1, swap_rollover3days=3, margin_hedged_use_leg=False, expiration_mode=3, filling_mode=3, order_mode=127, order_gtc_mode=0, option_mode=0, option_right=0, bid=0.0, bidhigh=0.0, bidlow=0.0, ask=0.0, askhigh=0.0, asklow=0.0, last=0.0, lasthigh=0.0, lastlow=0.0, volume_real=0.0, volumehigh_real=0.0, volumelow_real=0.0, option_strike=0.0, point=1e-05, trade_tick_value=0.0, trade_tick_value_profit=0.0, trade_tick_value_loss=0.0, trade_tick_size=1e-05, trade_contract_size=100000.0, trade_accrued_interest=0.0, trade_face_value=0.0, trade_liquidity_rate=0.0, volume_min=0.01, volume_max=100000.0, volume_step=0.01, volume_limit=0.0, swap_long=-164.853, swap_short=75.43, margin_initial=0.0, margin_maintenance=0.0, session_volume=0.0, session_turnover=0.0, session_interest=0.0, session_buy_orders_volume=0.0, session_sell_orders_volume=0.0, session_open=0.0, session_close=0.0, session_aw=0.0, session_price_settlement=0.0, session_price_limit_min=0.0, session_price_limit_max=0.0, margin_hedged=100000.0, price_change=0.0, price_volatility=0.0, price_theoretical=0.0, price_greeks_delta=0.0, price_greeks_theta=0.0, price_greeks_gamma=0.0, price_greeks_vega=0.0, price_greeks_rho=0.0, price_greeks_omega=0.0, price_sensitivity=0.0, basis='', category='', currency_base='GBP', currency_profit='TRY', currency_margin='GBP', bank='', description='Great Britan Pound vs Turkish Lira', exchange='', formula='', isin='', name='GBPTRY', page='', path='Forex\\\\GBPTRY'), SymbolInfo(custom=False, chart_mode=0, select=True, visible=True, session_deals=0, session_buy_orders=0, session_sell_orders=0, volume=0, volumehigh=0, volumelow=0, time=1692210383, digits=5, spread=5, spread_float=True, ticks_bookdepth=10, trade_calc_mode=0, trade_mode=4, start_time=0, expiration_time=0, trade_stops_level=0, trade_freeze_level=0, trade_exemode=1, swap_mode=1, swap_rollover3days=3, margin_hedged_use_leg=False, expiration_mode=7, filling_mode=1, order_mode=127, order_gtc_mode=0, option_mode=0, option_right=0, bid=1.27529, bidhigh=1.2766199999999999, bidlow=1.26847, ask=1.27534, askhigh=1.27667, asklow=1.2687599999999999, last=0.0, lasthigh=0.0, lastlow=0.0, volume_real=0.0, volumehigh_real=0.0, volumelow_real=0.0, option_strike=0.0, point=1e-05, trade_tick_value=1.0, trade_tick_value_profit=1.0, trade_tick_value_loss=1.0, trade_tick_size=1e-05, trade_contract_size=100000.0, trade_accrued_interest=0.0, trade_face_value=0.0, trade_liquidity_rate=0.0, volume_min=0.01, volume_max=500.0, volume_step=0.01, volume_limit=0.0, swap_long=-0.2, swap_short=-2.2, margin_initial=0.0, margin_maintenance=0.0, session_volume=0.0, session_turnover=0.0, session_interest=0.0, session_buy_orders_volume=0.0, session_sell_orders_volume=0.0, session_open=1.2693699999999999, session_close=1.2702, session_aw=0.0, session_price_settlement=0.0, session_price_limit_min=0.0, session_price_limit_max=0.0, margin_hedged=100000.0, price_change=0.4007, price_volatility=0.0, price_theoretical=0.0, price_greeks_delta=0.0, price_greeks_theta=0.0, price_greeks_gamma=0.0, price_greeks_vega=0.0, price_greeks_rho=0.0, price_greeks_omega=0.0, price_sensitivity=0.0, basis='', category='', currency_base='GBP', currency_profit='USD', currency_margin='GBP', bank='', description='Pound Sterling vs US Dollar', exchange='', formula='', isin='', name='GBPUSD', page='https://www.mql5.com/en/quotes/currencies/gbpusd', path='Forex\\\\GBPUSD'), SymbolInfo(custom=False, chart_mode=0, select=False, visible=False, session_deals=0, session_buy_orders=0, session_sell_orders=0, volume=0, volumehigh=0, volumelow=0, time=0, digits=5, spread=0, spread_float=True, ticks_bookdepth=0, trade_calc_mode=0, trade_mode=4, start_time=0, expiration_time=0, trade_stops_level=0, trade_freeze_level=0, trade_exemode=1, swap_mode=1, swap_rollover3days=3, margin_hedged_use_leg=False, expiration_mode=3, filling_mode=3, order_mode=127, order_gtc_mode=0, option_mode=0, option_right=0, bid=0.0, bidhigh=0.0, bidlow=0.0, ask=0.0, askhigh=0.0, asklow=0.0, last=0.0, lasthigh=0.0, lastlow=0.0, volume_real=0.0, volumehigh_real=0.0, volumelow_real=0.0, option_strike=0.0, point=1e-05, trade_tick_value=0.0, trade_tick_value_profit=0.0, trade_tick_value_loss=0.0, trade_tick_size=1e-05, trade_contract_size=100000.0, trade_accrued_interest=0.0, trade_face_value=0.0, trade_liquidity_rate=0.0, volume_min=0.01, volume_max=100000.0, volume_step=0.01, volume_limit=0.0, swap_long=-449.93, swap_short=246.71, margin_initial=0.0, margin_maintenance=0.0, session_volume=0.0, session_turnover=0.0, session_interest=0.0, session_buy_orders_volume=0.0, session_sell_orders_volume=0.0, session_open=0.0, session_close=0.0, session_aw=0.0, session_price_settlement=0.0, session_price_limit_min=0.0, session_price_limit_max=0.0, margin_hedged=100000.0, price_change=0.0, price_volatility=0.0, price_theoretical=0.0, price_greeks_delta=0.0, price_greeks_theta=0.0, price_greeks_gamma=0.0, price_greeks_vega=0.0, price_greeks_rho=0.0, price_greeks_omega=0.0, price_sensitivity=0.0, basis='', category='', currency_base='GBP', currency_profit='ZAR', currency_margin='GBP', bank='', description='Great Britan vs South Africa Rand', exchange='', formula='', isin='', name='GBPZAR', page='', path='Forex\\\\GBPZAR'))\n"
     ]
    }
   ],
   "source": [
    "print(mt5.symbols_get(\n",
    "   group=\"GBP\"    \n",
    "))\n",
    "symbols = mt5.symbols_get(group=\"GBP\")"
   ]
  },
  {
   "cell_type": "code",
   "execution_count": null,
   "metadata": {},
   "outputs": [
    {
     "name": "stdout",
     "output_type": "stream",
     "text": [
      "SymbolInfo(custom=False, chart_mode=0, select=True, visible=True, session_deals=0, session_buy_orders=0, session_sell_orders=0, volume=0, volumehigh=0, volumelow=0, time=1692210384, digits=5, spread=0, spread_float=True, ticks_bookdepth=10, trade_calc_mode=0, trade_mode=4, start_time=0, expiration_time=0, trade_stops_level=0, trade_freeze_level=0, trade_exemode=1, swap_mode=1, swap_rollover3days=3, margin_hedged_use_leg=False, expiration_mode=15, filling_mode=1, order_mode=127, order_gtc_mode=0, option_mode=0, option_right=0, bid=1.09067, bidhigh=1.09346, bidlow=1.08952, ask=1.09067, askhigh=1.09346, asklow=1.08961, last=0.0, lasthigh=0.0, lastlow=0.0, volume_real=0.0, volumehigh_real=0.0, volumelow_real=0.0, option_strike=0.0, point=1e-05, trade_tick_value=1.0, trade_tick_value_profit=1.0, trade_tick_value_loss=1.0, trade_tick_size=1e-05, trade_contract_size=100000.0, trade_accrued_interest=0.0, trade_face_value=0.0, trade_liquidity_rate=0.0, volume_min=0.01, volume_max=500.0, volume_step=0.01, volume_limit=0.0, swap_long=-0.7, swap_short=-1.0, margin_initial=0.0, margin_maintenance=0.0, session_volume=0.0, session_turnover=0.0, session_interest=0.0, session_buy_orders_volume=0.0, session_sell_orders_volume=0.0, session_open=1.09026, session_close=1.09026, session_aw=0.0, session_price_settlement=0.0, session_price_limit_min=0.0, session_price_limit_max=0.0, margin_hedged=100000.0, price_change=0.0376, price_volatility=0.0, price_theoretical=0.0, price_greeks_delta=0.0, price_greeks_theta=0.0, price_greeks_gamma=0.0, price_greeks_vega=0.0, price_greeks_rho=0.0, price_greeks_omega=0.0, price_sensitivity=0.0, basis='', category='', currency_base='EUR', currency_profit='USD', currency_margin='EUR', bank='', description='Euro vs US Dollar', exchange='', formula='', isin='', name='EURUSD', page='https://www.mql5.com/en/quotes/currencies/eurusd', path='Forex\\\\EURUSD')\n"
     ]
    }
   ],
   "source": [
    "print(mt5.symbol_info(\"EURUSD\"))"
   ]
  },
  {
   "cell_type": "code",
   "execution_count": null,
   "metadata": {},
   "outputs": [
    {
     "name": "stdout",
     "output_type": "stream",
     "text": [
      "SymbolInfo(custom=False, chart_mode=0, select=False, visible=False, session_deals=0, session_buy_orders=0, session_sell_orders=0, volume=0, volumehigh=0, volumelow=0, time=0, digits=3, spread=0, spread_float=True, ticks_bookdepth=10, trade_calc_mode=0, trade_mode=4, start_time=0, expiration_time=0, trade_stops_level=0, trade_freeze_level=0, trade_exemode=1, swap_mode=1, swap_rollover3days=3, margin_hedged_use_leg=False, expiration_mode=7, filling_mode=1, order_mode=127, order_gtc_mode=0, option_mode=0, option_right=0, bid=0.0, bidhigh=0.0, bidlow=0.0, ask=0.0, askhigh=0.0, asklow=0.0, last=0.0, lasthigh=0.0, lastlow=0.0, volume_real=0.0, volumehigh_real=0.0, volumelow_real=0.0, option_strike=0.0, point=0.001, trade_tick_value=0.6859886811867605, trade_tick_value_profit=0.6859886811867605, trade_tick_value_loss=0.6859886811867605, trade_tick_size=0.001, trade_contract_size=100000.0, trade_accrued_interest=0.0, trade_face_value=0.0, trade_liquidity_rate=0.0, volume_min=0.01, volume_max=500.0, volume_step=0.01, volume_limit=0.0, swap_long=-0.2, swap_short=-1.2, margin_initial=0.0, margin_maintenance=0.0, session_volume=0.0, session_turnover=0.0, session_interest=0.0, session_buy_orders_volume=0.0, session_sell_orders_volume=0.0, session_open=0.0, session_close=0.0, session_aw=0.0, session_price_settlement=0.0, session_price_limit_min=0.0, session_price_limit_max=0.0, margin_hedged=100000.0, price_change=0.0, price_volatility=0.0, price_theoretical=0.0, price_greeks_delta=0.0, price_greeks_theta=0.0, price_greeks_gamma=0.0, price_greeks_vega=0.0, price_greeks_rho=0.0, price_greeks_omega=0.0, price_sensitivity=0.0, basis='', category='', currency_base='EUR', currency_profit='JPY', currency_margin='EUR', bank='', description='Euro vs Yen', exchange='', formula='', isin='', name='EURJPY', page='https://www.mql5.com/en/quotes/currencies/eurjpy', path='Forex\\\\EURJPY')\n",
      "EURJPY: spread = 0   digits = 3\n",
      "Show symbol_info(\"EURJPY\")._asdict():\n",
      "  custom=False\n",
      "  chart_mode=0\n",
      "  select=False\n",
      "  visible=False\n",
      "  session_deals=0\n",
      "  session_buy_orders=0\n",
      "  session_sell_orders=0\n",
      "  volume=0\n",
      "  volumehigh=0\n",
      "  volumelow=0\n",
      "  time=0\n",
      "  digits=3\n",
      "  spread=0\n",
      "  spread_float=True\n",
      "  ticks_bookdepth=10\n",
      "  trade_calc_mode=0\n",
      "  trade_mode=4\n",
      "  start_time=0\n",
      "  expiration_time=0\n",
      "  trade_stops_level=0\n",
      "  trade_freeze_level=0\n",
      "  trade_exemode=1\n",
      "  swap_mode=1\n",
      "  swap_rollover3days=3\n",
      "  margin_hedged_use_leg=False\n",
      "  expiration_mode=7\n",
      "  filling_mode=1\n",
      "  order_mode=127\n",
      "  order_gtc_mode=0\n",
      "  option_mode=0\n",
      "  option_right=0\n",
      "  bid=0.0\n",
      "  bidhigh=0.0\n",
      "  bidlow=0.0\n",
      "  ask=0.0\n",
      "  askhigh=0.0\n",
      "  asklow=0.0\n",
      "  last=0.0\n",
      "  lasthigh=0.0\n",
      "  lastlow=0.0\n",
      "  volume_real=0.0\n",
      "  volumehigh_real=0.0\n",
      "  volumelow_real=0.0\n",
      "  option_strike=0.0\n",
      "  point=0.001\n",
      "  trade_tick_value=0.6859886811867605\n",
      "  trade_tick_value_profit=0.6859886811867605\n",
      "  trade_tick_value_loss=0.6859886811867605\n",
      "  trade_tick_size=0.001\n",
      "  trade_contract_size=100000.0\n",
      "  trade_accrued_interest=0.0\n",
      "  trade_face_value=0.0\n",
      "  trade_liquidity_rate=0.0\n",
      "  volume_min=0.01\n",
      "  volume_max=500.0\n",
      "  volume_step=0.01\n",
      "  volume_limit=0.0\n",
      "  swap_long=-0.2\n",
      "  swap_short=-1.2\n",
      "  margin_initial=0.0\n",
      "  margin_maintenance=0.0\n",
      "  session_volume=0.0\n",
      "  session_turnover=0.0\n",
      "  session_interest=0.0\n",
      "  session_buy_orders_volume=0.0\n",
      "  session_sell_orders_volume=0.0\n",
      "  session_open=0.0\n",
      "  session_close=0.0\n",
      "  session_aw=0.0\n",
      "  session_price_settlement=0.0\n",
      "  session_price_limit_min=0.0\n",
      "  session_price_limit_max=0.0\n",
      "  margin_hedged=100000.0\n",
      "  price_change=0.0\n",
      "  price_volatility=0.0\n",
      "  price_theoretical=0.0\n",
      "  price_greeks_delta=0.0\n",
      "  price_greeks_theta=0.0\n",
      "  price_greeks_gamma=0.0\n",
      "  price_greeks_vega=0.0\n",
      "  price_greeks_rho=0.0\n",
      "  price_greeks_omega=0.0\n",
      "  price_sensitivity=0.0\n",
      "  basis=\n",
      "  category=\n",
      "  currency_base=EUR\n",
      "  currency_profit=JPY\n",
      "  currency_margin=EUR\n",
      "  bank=\n",
      "  description=Euro vs Yen\n",
      "  exchange=\n",
      "  formula=\n",
      "  isin=\n",
      "  name=EURJPY\n",
      "  page=https://www.mql5.com/en/quotes/currencies/eurjpy\n",
      "  path=Forex\\EURJPY\n"
     ]
    }
   ],
   "source": [
    "symbol_info=mt5.symbol_info(\"EURJPY\")\n",
    "if symbol_info!=None:\n",
    "    # display the terminal data 'as is'    \n",
    "    print(symbol_info)\n",
    "    print(\"EURJPY: spread =\",symbol_info.spread,\"  digits =\",symbol_info.digits)\n",
    "    # display symbol properties as a list\n",
    "    print(\"Show symbol_info(\\\"EURJPY\\\")._asdict():\")\n",
    "    symbol_info_dict = mt5.symbol_info(\"EURJPY\")._asdict()\n",
    "    for prop in symbol_info_dict:\n",
    "        print(\"  {}={}\".format(prop, symbol_info_dict[prop]))"
   ]
  },
  {
   "cell_type": "code",
   "execution_count": null,
   "metadata": {},
   "outputs": [
    {
     "name": "stdout",
     "output_type": "stream",
     "text": [
      "SymbolInfo(custom=False, chart_mode=0, select=True, visible=True, session_deals=0, session_buy_orders=0, session_sell_orders=0, volume=0, volumehigh=0, volumelow=0, time=1692210384, digits=5, spread=16, spread_float=True, ticks_bookdepth=10, trade_calc_mode=0, trade_mode=4, start_time=0, expiration_time=0, trade_stops_level=0, trade_freeze_level=0, trade_exemode=1, swap_mode=1, swap_rollover3days=3, margin_hedged_use_leg=False, expiration_mode=7, filling_mode=1, order_mode=127, order_gtc_mode=0, option_mode=0, option_right=0, bid=1.47322, bidhigh=1.47604, bidlow=1.47048, ask=1.4733800000000001, askhigh=1.47621, asklow=1.47099, last=0.0, lasthigh=0.0, lastlow=0.0, volume_real=0.0, volumehigh_real=0.0, volumelow_real=0.0, option_strike=0.0, point=1e-05, trade_tick_value=0.740269161867255, trade_tick_value_profit=0.740269161867255, trade_tick_value_loss=0.7402910824536207, trade_tick_size=1e-05, trade_contract_size=100000.0, trade_accrued_interest=0.0, trade_face_value=0.0, trade_liquidity_rate=0.0, volume_min=0.01, volume_max=500.0, volume_step=0.01, volume_limit=0.0, swap_long=-1.1, swap_short=-0.9, margin_initial=0.0, margin_maintenance=0.0, session_volume=0.0, session_turnover=0.0, session_interest=0.0, session_buy_orders_volume=0.0, session_sell_orders_volume=0.0, session_open=1.47146, session_close=1.47166, session_aw=0.0, session_price_settlement=0.0, session_price_limit_min=0.0, session_price_limit_max=0.0, margin_hedged=100000.0, price_change=0.106, price_volatility=0.0, price_theoretical=0.0, price_greeks_delta=0.0, price_greeks_theta=0.0, price_greeks_gamma=0.0, price_greeks_vega=0.0, price_greeks_rho=0.0, price_greeks_omega=0.0, price_sensitivity=0.0, basis='', category='', currency_base='EUR', currency_profit='CAD', currency_margin='EUR', bank='', description='Euro vs Canadian Dollar', exchange='', formula='', isin='', name='EURCAD', page='https://www.mql5.com/en/quotes/currencies/eurcad', path='Forex\\\\EURCAD')\n",
      "EURCAD: currency_base = EUR   currency_profit = CAD   currency_margin = EUR\n",
      "\n",
      "Show symbol_info()._asdict():\n",
      "  custom=False\n",
      "  chart_mode=0\n",
      "  select=True\n",
      "  visible=True\n",
      "  session_deals=0\n",
      "  session_buy_orders=0\n",
      "  session_sell_orders=0\n",
      "  volume=0\n",
      "  volumehigh=0\n",
      "  volumelow=0\n",
      "  time=1692210384\n",
      "  digits=5\n",
      "  spread=16\n",
      "  spread_float=True\n",
      "  ticks_bookdepth=10\n",
      "  trade_calc_mode=0\n",
      "  trade_mode=4\n",
      "  start_time=0\n",
      "  expiration_time=0\n",
      "  trade_stops_level=0\n",
      "  trade_freeze_level=0\n",
      "  trade_exemode=1\n",
      "  swap_mode=1\n",
      "  swap_rollover3days=3\n",
      "  margin_hedged_use_leg=False\n",
      "  expiration_mode=7\n",
      "  filling_mode=1\n",
      "  order_mode=127\n",
      "  order_gtc_mode=0\n",
      "  option_mode=0\n",
      "  option_right=0\n",
      "  bid=1.47322\n",
      "  bidhigh=1.47604\n",
      "  bidlow=1.47048\n",
      "  ask=1.4733800000000001\n",
      "  askhigh=1.47621\n",
      "  asklow=1.47099\n",
      "  last=0.0\n",
      "  lasthigh=0.0\n",
      "  lastlow=0.0\n",
      "  volume_real=0.0\n",
      "  volumehigh_real=0.0\n",
      "  volumelow_real=0.0\n",
      "  option_strike=0.0\n",
      "  point=1e-05\n",
      "  trade_tick_value=0.740269161867255\n",
      "  trade_tick_value_profit=0.740269161867255\n",
      "  trade_tick_value_loss=0.7402910824536207\n",
      "  trade_tick_size=1e-05\n",
      "  trade_contract_size=100000.0\n",
      "  trade_accrued_interest=0.0\n",
      "  trade_face_value=0.0\n",
      "  trade_liquidity_rate=0.0\n",
      "  volume_min=0.01\n",
      "  volume_max=500.0\n",
      "  volume_step=0.01\n",
      "  volume_limit=0.0\n",
      "  swap_long=-1.1\n",
      "  swap_short=-0.9\n",
      "  margin_initial=0.0\n",
      "  margin_maintenance=0.0\n",
      "  session_volume=0.0\n",
      "  session_turnover=0.0\n",
      "  session_interest=0.0\n",
      "  session_buy_orders_volume=0.0\n",
      "  session_sell_orders_volume=0.0\n",
      "  session_open=1.47146\n",
      "  session_close=1.47166\n",
      "  session_aw=0.0\n",
      "  session_price_settlement=0.0\n",
      "  session_price_limit_min=0.0\n",
      "  session_price_limit_max=0.0\n",
      "  margin_hedged=100000.0\n",
      "  price_change=0.106\n",
      "  price_volatility=0.0\n",
      "  price_theoretical=0.0\n",
      "  price_greeks_delta=0.0\n",
      "  price_greeks_theta=0.0\n",
      "  price_greeks_gamma=0.0\n",
      "  price_greeks_vega=0.0\n",
      "  price_greeks_rho=0.0\n",
      "  price_greeks_omega=0.0\n",
      "  price_sensitivity=0.0\n",
      "  basis=\n",
      "  category=\n",
      "  currency_base=EUR\n",
      "  currency_profit=CAD\n",
      "  currency_margin=EUR\n",
      "  bank=\n",
      "  description=Euro vs Canadian Dollar\n",
      "  exchange=\n",
      "  formula=\n",
      "  isin=\n",
      "  name=EURCAD\n",
      "  page=https://www.mql5.com/en/quotes/currencies/eurcad\n",
      "  path=Forex\\EURCAD\n",
      "\n",
      "symbol_info_dict() as dataframe:\n",
      "         property                                             value\n",
      "0          custom                                             False\n",
      "1      chart_mode                                                 0\n",
      "2          select                                              True\n",
      "3         visible                                              True\n",
      "4   session_deals                                                 0\n",
      "..            ...                                               ...\n",
      "91        formula                                                  \n",
      "92           isin                                                  \n",
      "93           name                                            EURCAD\n",
      "94           page  https://www.mql5.com/en/quotes/currencies/eurcad\n",
      "95           path                                      Forex\\EURCAD\n",
      "\n",
      "[96 rows x 2 columns]\n"
     ]
    }
   ],
   "source": [
    "selected=mt5.symbol_select(\"EURCAD\",True)\n",
    "if not selected:\n",
    "    print(\"Failed to select EURCAD, error code =\",mt5.last_error())\n",
    "else:\n",
    "    symbol_info=mt5.symbol_info(\"EURCAD\")\n",
    "    print(symbol_info)\n",
    "    print(\"EURCAD: currency_base =\",symbol_info.currency_base,\"  currency_profit =\",symbol_info.currency_profit,\"  currency_margin =\",symbol_info.currency_margin)\n",
    "    print()\n",
    " \n",
    "    # get symbol properties in the form of a dictionary\n",
    "    print(\"Show symbol_info()._asdict():\")\n",
    "    symbol_info_dict = symbol_info._asdict()\n",
    "    for prop in symbol_info_dict:\n",
    "        print(\"  {}={}\".format(prop, symbol_info_dict[prop]))\n",
    "    print()\n",
    " \n",
    "    # convert the dictionary into DataFrame and print\n",
    "    df=pd.DataFrame(list(symbol_info_dict.items()),columns=['property','value'])\n",
    "    print(\"symbol_info_dict() as dataframe:\")\n",
    "    print(df)"
   ]
  },
  {
   "cell_type": "code",
   "execution_count": null,
   "metadata": {},
   "outputs": [
    {
     "name": "stdout",
     "output_type": "stream",
     "text": [
      "Hello\n"
     ]
    }
   ],
   "source": [
    "print(\"Hello\")"
   ]
  },
  {
   "cell_type": "code",
   "execution_count": null,
   "metadata": {},
   "outputs": [],
   "source": [
    "mt5.market_book_add(\"AAPL\", \"NASDAQ\")"
   ]
  },
  {
   "cell_type": "code",
   "execution_count": null,
   "metadata": {},
   "outputs": [],
   "source": [
    "data_struct = mt5.copy_rates_from(\"EURUSD\", mt5.TIMEFRAME_M1, datetime(2022,1,1),10000)"
   ]
  },
  {
   "cell_type": "code",
   "execution_count": null,
   "metadata": {},
   "outputs": [
    {
     "data": {
      "text/plain": [
       "(1,)"
      ]
     },
     "execution_count": 47,
     "metadata": {},
     "output_type": "execute_result"
    }
   ],
   "source": [
    "data_struct.shape"
   ]
  },
  {
   "cell_type": "code",
   "execution_count": null,
   "metadata": {},
   "outputs": [
    {
     "name": "stdout",
     "output_type": "stream",
     "text": [
      "(1691020800, 1.27106, 1.27277, 1.262, 1.27079, 125797, 1, 0)\n",
      "(1691107200, 1.27125, 1.27921, 1.26826, 1.27443, 102455, 1, 0)\n",
      "(1691366400, 1.2753, 1.27889, 1.27129, 1.27827, 71889, 1, 0)\n",
      "(1691452800, 1.27829, 1.27851, 1.2684, 1.27472, 87589, 1, 0)\n",
      "(1691539200, 1.27446, 1.2782, 1.27119, 1.27181, 77441, 1, 0)\n",
      "(1691625600, 1.27167, 1.28188, 1.26693, 1.26756, 114396, 1, 0)\n",
      "(1691712000, 1.26737, 1.27385, 1.26618, 1.26918, 84558, 1, 0)\n",
      "(1691971200, 1.2697, 1.27148, 1.26164, 1.26811, 91411, 0, 0)\n",
      "(1692057600, 1.26783, 1.27523, 1.26667, 1.27033, 114707, 1, 0)\n",
      "(1692144000, 1.27033, 1.27662, 1.26847, 1.27466, 57241, 0, 0)\n"
     ]
    }
   ],
   "source": [
    "rates = mt5.copy_rates_from_pos(\"GBPUSD\", mt5.TIMEFRAME_D1, 0, 10)\n",
    "for rate in rates:\n",
    "    print(rate)"
   ]
  },
  {
   "cell_type": "code",
   "execution_count": null,
   "metadata": {},
   "outputs": [],
   "source": [
    "pd.set_option('display.max_columns', 500) # number of columns to be displayed\n",
    "pd.set_option('display.width', 1500)      # max table width to display\n",
    "# import pytz module for working with time zone\n",
    "import pytz"
   ]
  },
  {
   "cell_type": "code",
   "execution_count": null,
   "metadata": {},
   "outputs": [
    {
     "name": "stdout",
     "output_type": "stream",
     "text": [
      "2023-08-16 18:26:52.653653+03:00\n"
     ]
    }
   ],
   "source": [
    "from datetime import datetime as dt\n",
    "nairobi_timezone = pytz.timezone('Africa/Nairobi')\n",
    "print(dt.now(nairobi_timezone))"
   ]
  },
  {
   "cell_type": "code",
   "execution_count": null,
   "metadata": {},
   "outputs": [],
   "source": [
    "nairobi_timezone_from = dt(2020, 1, 10, tzinfo=pytz.timezone('Etc/UTC'))\n",
    "nairobi_timezone_to = dt(2023, 8, 1, tzinfo=pytz.timezone('Etc/UTC'))"
   ]
  },
  {
   "cell_type": "code",
   "execution_count": null,
   "metadata": {},
   "outputs": [],
   "source": [
    "rates = mt5.copy_rates_range(\"USD/JPY\", mt5.TIMEFRAME_M5, nairobi_timezone_from, nairobi_timezone_to)\n",
    "rates_frame = pd.DataFrame(rates)"
   ]
  },
  {
   "cell_type": "code",
   "execution_count": null,
   "metadata": {},
   "outputs": [
    {
     "name": "stdout",
     "output_type": "stream",
     "text": [
      "Empty DataFrame\n",
      "Columns: []\n",
      "Index: []\n"
     ]
    }
   ],
   "source": [
    "print(rates_frame.head(10))"
   ]
  },
  {
   "cell_type": "code",
   "execution_count": null,
   "metadata": {},
   "outputs": [
    {
     "name": "stdout",
     "output_type": "stream",
     "text": [
      "Display obtained data 'as is'\n",
      "(1649991900, 126.09, 126.128, 126.077, 126.107, 622, 9, 0)\n",
      "\n",
      "Display dataframe with data\n",
      "                 time    open     high      low    close  tick_volume  spread  real_volume\n",
      "0 2022-04-15 03:05:00  126.09  126.128  126.077  126.107          622       9            0\n"
     ]
    }
   ],
   "source": [
    "if not mt5.initialize():\n",
    "    print(\"initialize() failed, error code =\",mt5.last_error())\n",
    "    quit()\n",
    " \n",
    "# set time zone to UTC\n",
    "timezone = pytz.timezone(\"Etc/UTC\")\n",
    "# create 'datetime' objects in UTC time zone to avoid the implementation of a local time zone offset\n",
    "utc_from = datetime(2020, 1, 10, tzinfo=timezone)\n",
    "utc_to = datetime(2020, 1, 11, hour = 13, tzinfo=timezone)\n",
    "# get bars from USDJPY M5 within the interval of 2020.01.10 00:00 - 2020.01.11 13:00 in UTC time zone\n",
    "rates = mt5.copy_rates_range(\"USDJPY\", mt5.TIMEFRAME_M5, utc_from, utc_to)\n",
    " \n",
    "\n",
    " \n",
    "# display each element of obtained data in a new line\n",
    "print(\"Display obtained data 'as is'\")\n",
    "counter=0\n",
    "for rate in rates:\n",
    "    counter+=1\n",
    "    if counter<=10:\n",
    "        print(rate)\n",
    " \n",
    "# create DataFrame out of the obtained data\n",
    "rates_frame = pd.DataFrame(rates)\n",
    "# convert time in seconds into the 'datetime' format\n",
    "rates_frame['time']=pd.to_datetime(rates_frame['time'], unit='s')\n",
    " \n",
    "# display data\n",
    "print(\"\\nDisplay dataframe with data\")\n",
    "print(rates_frame.head(10))"
   ]
  },
  {
   "cell_type": "code",
   "execution_count": null,
   "metadata": {},
   "outputs": [
    {
     "name": "stdout",
     "output_type": "stream",
     "text": [
      "Ticks received: 100000\n",
      "Display obtained ticks 'as is'\n",
      "(1673308816, 1.07293, 1.07358, 0., 0, 1673308816975, 134, 0.)\n",
      "(1673308817, 1.07294, 1.07359, 0., 0, 1673308817109, 134, 0.)\n",
      "(1673308817, 1.07293, 1.07358, 0., 0, 1673308817273, 134, 0.)\n",
      "(1673308819, 1.07294, 1.07359, 0., 0, 1673308819093, 134, 0.)\n",
      "(1673308819, 1.07293, 1.07358, 0., 0, 1673308819265, 134, 0.)\n",
      "(1673308819, 1.07294, 1.07359, 0., 0, 1673308819429, 134, 0.)\n",
      "(1673308832, 1.0729, 1.07335, 0., 0, 1673308832414, 134, 0.)\n",
      "(1673308840, 1.07289, 1.07336, 0., 0, 1673308840219, 134, 0.)\n",
      "(1673308846, 1.07291, 1.07356, 0., 0, 1673308846168, 134, 0.)\n",
      "(1673308888, 1.0732, 1.07335, 0., 0, 1673308888342, 134, 0.)\n",
      "\n",
      "Display dataframe with ticks\n",
      "                 time      bid      ask  last  volume       time_msc  flags  volume_real\n",
      "0 2023-01-10 00:00:16  1.07293  1.07358   0.0       0  1673308816975    134          0.0\n",
      "1 2023-01-10 00:00:17  1.07294  1.07359   0.0       0  1673308817109    134          0.0\n",
      "2 2023-01-10 00:00:17  1.07293  1.07358   0.0       0  1673308817273    134          0.0\n",
      "3 2023-01-10 00:00:19  1.07294  1.07359   0.0       0  1673308819093    134          0.0\n",
      "4 2023-01-10 00:00:19  1.07293  1.07358   0.0       0  1673308819265    134          0.0\n",
      "5 2023-01-10 00:00:19  1.07294  1.07359   0.0       0  1673308819429    134          0.0\n",
      "6 2023-01-10 00:00:32  1.07290  1.07335   0.0       0  1673308832414    134          0.0\n",
      "7 2023-01-10 00:00:40  1.07289  1.07336   0.0       0  1673308840219    134          0.0\n",
      "8 2023-01-10 00:00:46  1.07291  1.07356   0.0       0  1673308846168    134          0.0\n",
      "9 2023-01-10 00:01:28  1.07320  1.07335   0.0       0  1673308888342    134          0.0\n"
     ]
    }
   ],
   "source": [
    "timezone = pytz.timezone(\"Etc/UTC\")\n",
    "# create 'datetime' object in UTC time zone to avoid the implementation of a local time zone offset\n",
    "utc_from = datetime(2023, 1, 10, tzinfo=timezone)\n",
    "# request 100 000 EURUSD ticks starting from 10.01.2019 in UTC time zone\n",
    "ticks = mt5.copy_ticks_from(\"EURUSD\", utc_from, 100000, mt5.COPY_TICKS_ALL)\n",
    "print(\"Ticks received:\",len(ticks))\n",
    " \n",
    " \n",
    "# display data on each tick on a new line\n",
    "print(\"Display obtained ticks 'as is'\")\n",
    "count = 0\n",
    "for tick in ticks:\n",
    "    count+=1\n",
    "    print(tick)\n",
    "    if count >= 10:\n",
    "        break\n",
    " \n",
    "# create DataFrame out of the obtained data\n",
    "ticks_frame = pd.DataFrame(ticks)\n",
    "# convert time in seconds into the datetime format\n",
    "ticks_frame['time']=pd.to_datetime(ticks_frame['time'], unit='s')\n",
    " \n",
    "# display data\n",
    "print(\"\\nDisplay dataframe with ticks\")\n",
    "print(ticks_frame.head(10))  "
   ]
  },
  {
   "cell_type": "code",
   "execution_count": null,
   "metadata": {},
   "outputs": [
    {
     "name": "stdout",
     "output_type": "stream",
     "text": [
      "Ticks received: 37008\n",
      "Display obtained ticks 'as is'\n",
      "(1578614400, 0.68577, 0.68594, 0., 0, 1578614400820, 134, 0.)\n",
      "(1578614401, 0.68578, 0.68594, 0., 0, 1578614401128, 130, 0.)\n",
      "(1578614401, 0.68575, 0.68594, 0., 0, 1578614401128, 130, 0.)\n",
      "(1578614411, 0.68576, 0.68594, 0., 0, 1578614411388, 130, 0.)\n",
      "(1578614411, 0.68575, 0.68594, 0., 0, 1578614411560, 130, 0.)\n",
      "(1578614414, 0.68576, 0.68595, 0., 0, 1578614414973, 134, 0.)\n",
      "(1578614430, 0.68576, 0.68594, 0., 0, 1578614430188, 4, 0.)\n",
      "(1578614450, 0.68576, 0.68595, 0., 0, 1578614450408, 4, 0.)\n",
      "(1578614450, 0.68576, 0.68594, 0., 0, 1578614450519, 4, 0.)\n",
      "(1578614456, 0.68575, 0.68594, 0., 0, 1578614456363, 130, 0.)\n",
      "\n",
      "Display dataframe with ticks\n",
      "                 time      bid      ask  last  volume       time_msc  flags  volume_real\n",
      "0 2020-01-10 00:00:00  0.68577  0.68594   0.0       0  1578614400820    134          0.0\n",
      "1 2020-01-10 00:00:01  0.68578  0.68594   0.0       0  1578614401128    130          0.0\n",
      "2 2020-01-10 00:00:01  0.68575  0.68594   0.0       0  1578614401128    130          0.0\n",
      "3 2020-01-10 00:00:11  0.68576  0.68594   0.0       0  1578614411388    130          0.0\n",
      "4 2020-01-10 00:00:11  0.68575  0.68594   0.0       0  1578614411560    130          0.0\n",
      "5 2020-01-10 00:00:14  0.68576  0.68595   0.0       0  1578614414973    134          0.0\n",
      "6 2020-01-10 00:00:30  0.68576  0.68594   0.0       0  1578614430188      4          0.0\n",
      "7 2020-01-10 00:00:50  0.68576  0.68595   0.0       0  1578614450408      4          0.0\n",
      "8 2020-01-10 00:00:50  0.68576  0.68594   0.0       0  1578614450519      4          0.0\n",
      "9 2020-01-10 00:00:56  0.68575  0.68594   0.0       0  1578614456363    130          0.0\n"
     ]
    }
   ],
   "source": [
    "if not mt5.initialize():\n",
    "    print(\"initialize() failed, error code =\",mt5.last_error())\n",
    "    quit()\n",
    " \n",
    "timezone = pytz.timezone(\"Etc/UTC\")\n",
    "# create 'datetime' objects in UTC time zone to avoid the implementation of a local time zone offset\n",
    "utc_from = datetime(2020, 1, 10, tzinfo=timezone)\n",
    "utc_to = datetime(2020, 1, 11, tzinfo=timezone)\n",
    "# request AUDUSD ticks within 11.01.2020 - 11.01.2020\n",
    "ticks = mt5.copy_ticks_range(\"AUDUSD\", utc_from, utc_to, mt5.COPY_TICKS_ALL)\n",
    "print(\"Ticks received:\",len(ticks))\n",
    " \n",
    "\n",
    "# display data on each tick on a new line\n",
    "print(\"Display obtained ticks 'as is'\")\n",
    "count = 0\n",
    "for tick in ticks:\n",
    "    count+=1\n",
    "    print(tick)\n",
    "    if count >= 10:\n",
    "        break\n",
    " \n",
    "# create DataFrame out of the obtained data\n",
    "ticks_frame = pd.DataFrame(ticks)\n",
    "# convert time in seconds into the datetime format\n",
    "ticks_frame['time']=pd.to_datetime(ticks_frame['time'], unit='s')\n",
    " \n",
    "# display data\n",
    "print(\"\\nDisplay dataframe with ticks\")\n",
    "print(ticks_frame.head(10)) "
   ]
  },
  {
   "cell_type": "code",
   "execution_count": null,
   "metadata": {},
   "outputs": [
    {
     "name": "stdout",
     "output_type": "stream",
     "text": [
      "Orders not found\n"
     ]
    }
   ],
   "source": [
    "orders=mt5.orders_total()\n",
    "if orders>0:\n",
    "    print(\"Total orders=\",orders)\n",
    "else:\n",
    "    print(\"Orders not found\")"
   ]
  },
  {
   "cell_type": "code",
   "execution_count": null,
   "metadata": {},
   "outputs": [
    {
     "data": {
      "text/plain": [
       "()"
      ]
     },
     "execution_count": 43,
     "metadata": {},
     "output_type": "execute_result"
    }
   ],
   "source": [
    "mt5.orders_get()"
   ]
  },
  {
   "cell_type": "code",
   "execution_count": null,
   "metadata": {},
   "outputs": [
    {
     "name": "stdout",
     "output_type": "stream",
     "text": [
      "Account currency: USD\n"
     ]
    }
   ],
   "source": [
    "account_currency=mt5.account_info().currency\n",
    "print(\"Account currency:\",account_currency)\n",
    " "
   ]
  },
  {
   "cell_type": "code",
   "execution_count": null,
   "metadata": {},
   "outputs": [
    {
     "name": "stdout",
     "output_type": "stream",
     "text": [
      "Symbols to check margin: ('EURUSD', 'GBPUSD', 'USDJPY', 'USDCHF', 'EURJPY', 'GBPJPY')\n",
      "   EURUSD buy 0.1 lot margin: 109.03 USD\n",
      "   GBPUSD buy 0.1 lot margin: 127.49 USD\n",
      "   USDJPY buy 0.1 lot margin: 100.0 USD\n",
      "   USDCHF buy 0.1 lot margin: 100.0 USD\n",
      "   EURJPY buy 0.1 lot margin: 109.03 USD\n",
      "   GBPJPY buy 0.1 lot margin: 127.49 USD\n"
     ]
    }
   ],
   "source": [
    "symbols=(\"EURUSD\",\"GBPUSD\",\"USDJPY\", \"USDCHF\",\"EURJPY\",\"GBPJPY\")\n",
    "print(\"Symbols to check margin:\", symbols)\n",
    "action=mt5.ORDER_TYPE_BUY\n",
    "lot=0.1\n",
    "for symbol in symbols:\n",
    "    symbol_info=mt5.symbol_info(symbol)\n",
    "    if symbol_info is None:\n",
    "        print(symbol,\"not found, skipped\")\n",
    "        continue\n",
    "    if not symbol_info.visible:\n",
    "        print(symbol, \"is not visible, trying to switch on\")\n",
    "        if not mt5.symbol_select(symbol,True):\n",
    "            print(\"symbol_select({}}) failed, skipped\",symbol)\n",
    "            continue\n",
    "    ask=mt5.symbol_info_tick(symbol).ask\n",
    "    margin=mt5.order_calc_margin(action,symbol,lot,ask)\n",
    "    if margin != None:\n",
    "        print(\"   {} buy {} lot margin: {} {}\".format(symbol,lot,margin,account_currency));\n",
    "    else:\n",
    "        print(\"order_calc_margin failed: , error code =\", mt5.last_error())"
   ]
  },
  {
   "cell_type": "code",
   "execution_count": null,
   "metadata": {},
   "outputs": [
    {
     "name": "stdout",
     "output_type": "stream",
     "text": [
      "Account currency: USD\n",
      "Symbols to check margin: ('EURUSD', 'GBPUSD', 'USDJPY')\n",
      "   buy EURUSD 1.0 lot: profit on 200 points => 200.0 USD\n",
      "   sell EURUSD 1.0 lots: profit on 200 points => 200.0 USD\n",
      "\n",
      "   buy GBPUSD 1.0 lot: profit on 200 points => 200.0 USD\n",
      "   sell GBPUSD 1.0 lots: profit on 200 points => 200.0 USD\n",
      "\n",
      "   buy USDJPY 1.0 lot: profit on 200 points => 136.96 USD\n",
      "   sell USDJPY 1.0 lots: profit on 200 points => 137.34 USD\n",
      "\n"
     ]
    }
   ],
   "source": [
    "account_currency=mt5.account_info().currency\n",
    "print(\"Account currency:\",account_currency)\n",
    " \n",
    "# arrange the symbol list\n",
    "symbols = (\"EURUSD\",\"GBPUSD\",\"USDJPY\")\n",
    "print(\"Symbols to check margin:\", symbols)\n",
    "# estimate profit for buying and selling\n",
    "lot=1.0\n",
    "distance=200\n",
    "for symbol in symbols:\n",
    "    symbol_info=mt5.symbol_info(symbol)\n",
    "    if symbol_info is None:\n",
    "        print(symbol,\"not found, skipped\")\n",
    "        continue\n",
    "    if not symbol_info.visible:\n",
    "        print(symbol, \"is not visible, trying to switch on\")\n",
    "        if not mt5.symbol_select(symbol,True):\n",
    "            print(\"symbol_select({}}) failed, skipped\",symbol)\n",
    "            continue\n",
    "    point=mt5.symbol_info(symbol).point\n",
    "    symbol_tick=mt5.symbol_info_tick(symbol)\n",
    "    ask=symbol_tick.ask\n",
    "    bid=symbol_tick.bid\n",
    "    buy_profit=mt5.order_calc_profit(mt5.ORDER_TYPE_BUY,symbol,lot,ask,ask+distance*point)\n",
    "    if buy_profit!=None:\n",
    "        print(\"   buy {} {} lot: profit on {} points => {} {}\".format(symbol,lot,distance,buy_profit,account_currency));\n",
    "    else:\n",
    "        print(\"order_calc_profit(ORDER_TYPE_BUY) failed, error code =\",mt5.last_error())\n",
    "    sell_profit=mt5.order_calc_profit(mt5.ORDER_TYPE_SELL,symbol,lot,bid,bid-distance*point)\n",
    "    if sell_profit!=None:\n",
    "        print(\"   sell {} {} lots: profit on {} points => {} {}\".format(symbol,lot,distance,sell_profit,account_currency));\n",
    "    else:\n",
    "        print(\"order_calc_profit(ORDER_TYPE_SELL) failed, error code =\",mt5.last_error())\n",
    "    print()"
   ]
  },
  {
   "cell_type": "code",
   "execution_count": null,
   "metadata": {},
   "outputs": [],
   "source": [
    "eurodf = pd.read_csv('C:\\\\Users\\\\Lex\\\\Downloads\\\\eurofxref\\\\eurofxref.csv')"
   ]
  },
  {
   "cell_type": "code",
   "execution_count": null,
   "metadata": {},
   "outputs": [
    {
     "data": {
      "text/html": [
       "<div>\n",
       "<style scoped>\n",
       "    .dataframe tbody tr th:only-of-type {\n",
       "        vertical-align: middle;\n",
       "    }\n",
       "\n",
       "    .dataframe tbody tr th {\n",
       "        vertical-align: top;\n",
       "    }\n",
       "\n",
       "    .dataframe thead th {\n",
       "        text-align: right;\n",
       "    }\n",
       "</style>\n",
       "<table border=\"1\" class=\"dataframe\">\n",
       "  <thead>\n",
       "    <tr style=\"text-align: right;\">\n",
       "      <th></th>\n",
       "      <th>Date</th>\n",
       "      <th>USD</th>\n",
       "      <th>JPY</th>\n",
       "      <th>BGN</th>\n",
       "      <th>CZK</th>\n",
       "      <th>DKK</th>\n",
       "      <th>GBP</th>\n",
       "      <th>HUF</th>\n",
       "      <th>PLN</th>\n",
       "      <th>RON</th>\n",
       "      <th>SEK</th>\n",
       "      <th>CHF</th>\n",
       "      <th>ISK</th>\n",
       "      <th>NOK</th>\n",
       "      <th>TRY</th>\n",
       "      <th>AUD</th>\n",
       "      <th>BRL</th>\n",
       "      <th>CAD</th>\n",
       "      <th>CNY</th>\n",
       "      <th>HKD</th>\n",
       "      <th>IDR</th>\n",
       "      <th>ILS</th>\n",
       "      <th>INR</th>\n",
       "      <th>KRW</th>\n",
       "      <th>MXN</th>\n",
       "      <th>MYR</th>\n",
       "      <th>NZD</th>\n",
       "      <th>PHP</th>\n",
       "      <th>SGD</th>\n",
       "      <th>THB</th>\n",
       "      <th>ZAR</th>\n",
       "      <th></th>\n",
       "    </tr>\n",
       "  </thead>\n",
       "  <tbody>\n",
       "    <tr>\n",
       "      <th>0</th>\n",
       "      <td>16 August 2023</td>\n",
       "      <td>1.0916</td>\n",
       "      <td>159.07</td>\n",
       "      <td>1.9558</td>\n",
       "      <td>24.06</td>\n",
       "      <td>7.452</td>\n",
       "      <td>0.85645</td>\n",
       "      <td>385.45</td>\n",
       "      <td>4.4528</td>\n",
       "      <td>4.9358</td>\n",
       "      <td>11.828</td>\n",
       "      <td>0.9605</td>\n",
       "      <td>144.1</td>\n",
       "      <td>11.453</td>\n",
       "      <td>29.5411</td>\n",
       "      <td>1.6895</td>\n",
       "      <td>5.4276</td>\n",
       "      <td>1.4726</td>\n",
       "      <td>7.9657</td>\n",
       "      <td>8.5466</td>\n",
       "      <td>16685.26</td>\n",
       "      <td>4.0932</td>\n",
       "      <td>90.8435</td>\n",
       "      <td>1461.11</td>\n",
       "      <td>18.6429</td>\n",
       "      <td>5.0536</td>\n",
       "      <td>1.8282</td>\n",
       "      <td>61.852</td>\n",
       "      <td>1.4822</td>\n",
       "      <td>38.599</td>\n",
       "      <td>20.8671</td>\n",
       "      <td></td>\n",
       "    </tr>\n",
       "  </tbody>\n",
       "</table>\n",
       "</div>"
      ],
      "text/plain": [
       "             Date     USD     JPY     BGN    CZK    DKK      GBP     HUF     PLN     RON     SEK     CHF    ISK     NOK      TRY     AUD     BRL     CAD     CNY     HKD       IDR     ILS      INR      KRW      MXN     MYR     NZD     PHP     SGD     THB      ZAR   \n",
       "0  16 August 2023  1.0916  159.07  1.9558  24.06  7.452  0.85645  385.45  4.4528  4.9358  11.828  0.9605  144.1  11.453  29.5411  1.6895  5.4276  1.4726  7.9657  8.5466  16685.26  4.0932  90.8435  1461.11  18.6429  5.0536  1.8282  61.852  1.4822  38.599  20.8671   "
      ]
     },
     "execution_count": 55,
     "metadata": {},
     "output_type": "execute_result"
    }
   ],
   "source": [
    "eurodf.head(10)"
   ]
  },
  {
   "cell_type": "code",
   "execution_count": null,
   "metadata": {},
   "outputs": [
    {
     "name": "stdout",
     "output_type": "stream",
     "text": [
      "{'amount': 1.0, 'base': 'USD', 'date': '2023-08-16', 'rates': {'AUD': 1.5477, 'BGN': 1.7917, 'BRL': 4.9722, 'CAD': 1.349, 'CHF': 0.8799, 'CNY': 7.2973, 'CZK': 22.041, 'DKK': 6.8267, 'EUR': 0.91609, 'GBP': 0.78458, 'HKD': 7.8294, 'HUF': 353.11, 'IDR': 15285, 'ILS': 3.7497, 'INR': 83.22, 'ISK': 132.01, 'JPY': 145.72, 'KRW': 1338.5, 'MXN': 17.0785, 'MYR': 4.6295, 'NOK': 10.4919, 'NZD': 1.6748, 'PHP': 56.662, 'PLN': 4.0791, 'RON': 4.5216, 'SEK': 10.8355, 'SGD': 1.3578, 'THB': 35.36, 'TRY': 27.062, 'ZAR': 19.116}}\n"
     ]
    }
   ],
   "source": [
    "import requests\n",
    "\n",
    "url = 'https://api.frankfurter.app/latest'  # Corrected URL with 'https://'\n",
    "response = requests.get(url, params={'base': 'USD','symbols': 'EUR','date':'2020-01-01'})\n",
    "\n",
    "if response.status_code == 200:\n",
    "    data = response.json()  # Convert response content to JSON\n",
    "    print(data)\n",
    "else:\n",
    "    print('Request failed with status code:', response.status_code)"
   ]
  },
  {
   "cell_type": "code",
   "execution_count": null,
   "metadata": {},
   "outputs": [
    {
     "name": "stdout",
     "output_type": "stream",
     "text": [
      "Empty DataFrame\n",
      "Columns: []\n",
      "Index: []\n"
     ]
    }
   ],
   "source": [
    "from datetime import datetime \n",
    "if not mt5.initialize():\n",
    "    print(\"initialize() failed, error code =\",mt5.last_error())\n",
    "    quit()\n",
    "\n",
    "start_date = datetime(2020, 1, 1)\n",
    "end_date = datetime(2020, 1, 2)\n",
    "time_frame = mt5.TIMEFRAME_M5\n",
    "start_date = int(start_date.timestamp())\n",
    "end_date= int(end_date.timestamp())\n",
    "rates = mt5.copy_rates_from(symbol, time_frame, start_date, end_date)\n",
    "\n",
    "# Convert data to DataFrame\n",
    "df = pd.DataFrame(rates)\n",
    "print(df.head(20))"
   ]
  },
  {
   "cell_type": "code",
   "execution_count": null,
   "metadata": {},
   "outputs": [
    {
     "ename": "AttributeError",
     "evalue": "module 'MetaTrader5' has no attribute 'MODE_STOPLEVEL'",
     "output_type": "error",
     "traceback": [
      "\u001b[1;31m---------------------------------------------------------------------------\u001b[0m",
      "\u001b[1;31mAttributeError\u001b[0m                            Traceback (most recent call last)",
      "Cell \u001b[1;32mIn[15], line 38\u001b[0m\n\u001b[0;32m     35\u001b[0m ld_takeprofitSell \u001b[39m=\u001b[39m current_price \u001b[39m-\u001b[39m \u001b[39m10\u001b[39m \u001b[39m*\u001b[39m \u001b[39m0.0001\u001b[39m \u001b[39m*\u001b[39m li_Factor\n\u001b[0;32m     36\u001b[0m ld_stoplossSell \u001b[39m=\u001b[39m current_price \u001b[39m+\u001b[39m \u001b[39m10\u001b[39m \u001b[39m*\u001b[39m \u001b[39m0.0001\u001b[39m \u001b[39m*\u001b[39m li_Factor\n\u001b[1;32m---> 38\u001b[0m \u001b[39mif\u001b[39;00m ld_stoplossSell \u001b[39m<\u001b[39m current_price \u001b[39m+\u001b[39m (\u001b[39m0.0001\u001b[39m \u001b[39m*\u001b[39m mt5\u001b[39m.\u001b[39msymbol_info(symbol, mt5\u001b[39m.\u001b[39;49mMODE_STOPLEVEL)):\n\u001b[0;32m     39\u001b[0m     ld_stoplossSell \u001b[39m=\u001b[39m current_price \u001b[39m+\u001b[39m (\u001b[39m0.0001\u001b[39m \u001b[39m*\u001b[39m mt5\u001b[39m.\u001b[39msymbol_info(symbol, mt5\u001b[39m.\u001b[39mMODE_STOPLEVEL))\n\u001b[0;32m     41\u001b[0m \u001b[39mif\u001b[39;00m close_prices[\u001b[39m-\u001b[39m\u001b[39m2\u001b[39m] \u001b[39m<\u001b[39m lower_envelope \u001b[39mand\u001b[39;00m close_prices[\u001b[39m-\u001b[39m\u001b[39m3\u001b[39m] \u001b[39m>\u001b[39m lower_envelope:\n",
      "\u001b[1;31mAttributeError\u001b[0m: module 'MetaTrader5' has no attribute 'MODE_STOPLEVEL'"
     ]
    }
   ],
   "source": [
    "import MetaTrader5 as mt5\n",
    "import numpy as np\n",
    "\n",
    "def calculate_envelopes(prices, period, deviation):\n",
    "    sma = np.mean(prices[-period:])\n",
    "    std_dev = np.std(prices[-period:])\n",
    "    lower_envelope = sma - deviation * std_dev\n",
    "    upper_envelope = sma + deviation * std_dev\n",
    "    return lower_envelope, upper_envelope\n",
    "\n",
    "mt5.initialize()\n",
    "\n",
    "ii_shift = 0\n",
    "ii_period = 20\n",
    "id_deviation = 2\n",
    "gdt_Candle = None\n",
    "\n",
    "# Replace with the symbol you want to trade\n",
    "symbol = \"EURUSD\"\n",
    "lot_size = 0.01\n",
    "\n",
    "while True:\n",
    "    prices = mt5.copy_rates_from_pos(symbol, mt5.TIMEFRAME_M1, 0, ii_period)\n",
    "    pricesdf = pd.DataFrame(prices)\n",
    "    close_prices = [price for price in pricesdf.close]  # Corrected line\n",
    "    \n",
    "    current_price = close_prices[-1]\n",
    "\n",
    "    lower_envelope, upper_envelope = calculate_envelopes(close_prices, ii_period, id_deviation)\n",
    "\n",
    "    li_Factor = 1\n",
    "    if current_price < 0.01:\n",
    "        li_Factor = 10\n",
    "    \n",
    "    ld_takeprofitSell = current_price - 10 * 0.0001 * li_Factor\n",
    "    ld_stoplossSell = current_price + 10 * 0.0001 * li_Factor\n",
    "\n",
    "    if ld_stoplossSell < current_price + (0.0001 * mt5.symbol_info(symbol, mt5.MODE_STOPLEVEL)):\n",
    "        ld_stoplossSell = current_price + (0.0001 * mt5.symbol_info(symbol, mt5.MODE_STOPLEVEL))\n",
    "    \n",
    "    if close_prices[-2] < lower_envelope and close_prices[-3] > lower_envelope:\n",
    "        if gdt_Candle != mt5.time_current(0):\n",
    "            order = mt5.order_send(symbol, mt5.ORDER_SELL, lot_size, current_price, 10, ld_stoplossSell, ld_takeprofitSell)\n",
    "            if order.retcode != mt5.TRADE_RETCODE_DONE:\n",
    "                print(\"Order Not Generated\", order.comment)\n",
    "            gdt_Candle = mt5.time_current(0)\n",
    "    \n",
    "    ld_takeprofitBuy = current_price + 10 * 0.0001 * li_Factor\n",
    "    ld_stoplossBuy = current_price - 10 * 0.0001 * li_Factor\n",
    "\n",
    "    if ld_stoplossBuy > current_price - (0.0001 * mt5.market_info(symbol, mt5.MODE_STOPLEVEL)):\n",
    "        ld_stoplossBuy = current_price - (0.0001 * mt5.market_info(symbol, mt5.MODE_STOPLEVEL))\n",
    "    \n",
    "    if close_prices[-2] > upper_envelope and close_prices[-3] < upper_envelope:\n",
    "        if gdt_Candle != mt5.time_current(0):\n",
    "            order = mt5.order_send(symbol, mt5.ORDER_BUY, lot_size, current_price, 10, ld_stoplossBuy, ld_takeprofitBuy)\n",
    "            if order.retcode != mt5.TRADE_RETCODE_DONE:\n",
    "                print(\"Order Not Generated\", order.comment)\n",
    "            gdt_Candle = mt5.time_current(0)\n",
    "# Sleep for 1 second before the next iteration\n"
   ]
  },
  {
   "cell_type": "code",
   "execution_count": null,
   "metadata": {},
   "outputs": [
    {
     "name": "stdout",
     "output_type": "stream",
     "text": [
      "0     0.85373\n",
      "1     0.85369\n",
      "2     0.85377\n",
      "3     0.85382\n",
      "4     0.85376\n",
      "5     0.85394\n",
      "6     0.85396\n",
      "7     0.85395\n",
      "8     0.85394\n",
      "9     0.85403\n",
      "10    0.85397\n",
      "11    0.85404\n",
      "12    0.85407\n",
      "13    0.85415\n",
      "14    0.85406\n",
      "15    0.85437\n",
      "16    0.85443\n",
      "17    0.85449\n",
      "18    0.85451\n",
      "19    0.85449\n",
      "Name: close, dtype: float64\n",
      "[(1692366300, 0.85379, 0.8538 , 0.85371, 0.85373,  78, 1, 0)\n",
      " (1692366360, 0.85373, 0.85373, 0.85365, 0.85369,  81, 1, 0)\n",
      " (1692366420, 0.85369, 0.8538 , 0.85368, 0.85377,  75, 1, 0)\n",
      " (1692366480, 0.85377, 0.85387, 0.85377, 0.85382,  89, 1, 0)\n",
      " (1692366540, 0.85382, 0.85382, 0.85374, 0.85376,  76, 1, 0)\n",
      " (1692366600, 0.85376, 0.85395, 0.85375, 0.85394,  72, 1, 0)\n",
      " (1692366660, 0.85394, 0.85397, 0.85392, 0.85396,  78, 1, 0)\n",
      " (1692366720, 0.85395, 0.85396, 0.85389, 0.85395,  46, 1, 0)\n",
      " (1692366780, 0.85395, 0.85398, 0.85393, 0.85394,  38, 1, 0)\n",
      " (1692366840, 0.85391, 0.85403, 0.85387, 0.85403,  67, 1, 0)\n",
      " (1692366900, 0.85403, 0.85408, 0.85396, 0.85397,  70, 1, 0)\n",
      " (1692366960, 0.85396, 0.85405, 0.85396, 0.85404,  45, 1, 0)\n",
      " (1692367020, 0.85404, 0.85412, 0.85398, 0.85407,  59, 1, 0)\n",
      " (1692367080, 0.85407, 0.85418, 0.85405, 0.85415,  94, 1, 0)\n",
      " (1692367140, 0.85415, 0.85423, 0.85402, 0.85406,  99, 1, 0)\n",
      " (1692367200, 0.85406, 0.85437, 0.85406, 0.85437, 100, 1, 0)\n",
      " (1692367260, 0.85436, 0.85445, 0.85436, 0.85443,  78, 1, 0)\n",
      " (1692367320, 0.85441, 0.8545 , 0.8544 , 0.85449,  51, 1, 0)\n",
      " (1692367380, 0.85448, 0.85453, 0.8544 , 0.85451,  60, 1, 0)\n",
      " (1692367440, 0.85451, 0.85451, 0.85441, 0.85449,  53, 1, 0)]\n"
     ]
    }
   ],
   "source": [
    "import pandas as pd\n",
    "prices = mt5.copy_rates_from_pos(\"EURGBP\", mt5.TIMEFRAME_M1, 0, 20)\n",
    "DF = pd.DataFrame(prices)\n",
    "print(DF.close)\n",
    "print (prices)\n",
    "# close_prices = [price.close for price in prices]"
   ]
  }
 ],
 "metadata": {
  "kernelspec": {
   "display_name": "Python 3",
   "language": "python",
   "name": "python3"
  },
  "language_info": {
   "codemirror_mode": {
    "name": "ipython",
    "version": 3
   },
   "file_extension": ".py",
   "mimetype": "text/x-python",
   "name": "python",
   "nbconvert_exporter": "python",
   "pygments_lexer": "ipython3",
   "version": "3.11.3"
  },
  "orig_nbformat": 4
 },
 "nbformat": 4,
 "nbformat_minor": 2
}
